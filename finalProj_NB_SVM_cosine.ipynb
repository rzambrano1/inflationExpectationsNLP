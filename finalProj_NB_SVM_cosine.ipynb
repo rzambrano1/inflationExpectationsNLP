{
 "cells": [
  {
   "cell_type": "markdown",
   "metadata": {},
   "source": [
    "## 641 - NLP\n",
    "## Final Project\n",
    "\n",
    "### Prepared By: Ricardo Zambrano\n",
    "### Model 1: Bag of Words Encoding - Naive Bayes Classifier and Support Vector Machines"
   ]
  },
  {
   "cell_type": "markdown",
   "metadata": {},
   "source": [
    "**Session Setup**"
   ]
  },
  {
   "cell_type": "code",
   "execution_count": 1,
   "metadata": {},
   "outputs": [],
   "source": [
    "import os\n",
    "import sys\n",
    "import copy\n",
    "import codecs\n",
    "import gzip\n",
    "\n",
    "import gensim\n",
    "import smart_open\n",
    "from gensim.models import Word2Vec\n",
    "from gensim.models import KeyedVectors\n",
    "from gensim.scripts.glove2word2vec import glove2word2vec\n",
    "\n",
    "import time\n",
    "import datetime\n",
    "from datetime import date\n",
    "from datetime import datetime\n",
    "from tqdm import tqdm\n",
    "\n",
    "import collections\n",
    "from typing import NamedTuple\n",
    "import random\n",
    "import json\n",
    "import re\n",
    "import string\n",
    "\n",
    "import numpy as np\n",
    "import pandas as pd\n",
    "import matplotlib.pyplot as plt\n",
    "\n",
    "from sklearn.feature_extraction.text import CountVectorizer\n",
    "from sklearn.metrics.pairwise import cosine_similarity\n",
    "from sklearn.feature_extraction.text import TfidfVectorizer\n",
    "\n",
    "from sklearn.model_selection import train_test_split\n",
    "from sklearn.preprocessing import LabelEncoder\n",
    "\n",
    "from sklearn import model_selection\n",
    "from sklearn import naive_bayes\n",
    "from sklearn import svm\n",
    "\n",
    "from sklearn.metrics import accuracy_score\n",
    "from sklearn.metrics import precision_score\n",
    "from sklearn.metrics import recall_score\n",
    "from sklearn.metrics import classification_report"
   ]
  },
  {
   "cell_type": "markdown",
   "metadata": {},
   "source": [
    "**Loading Labeled Data and Stop Words**"
   ]
  },
  {
   "cell_type": "code",
   "execution_count": 2,
   "metadata": {},
   "outputs": [],
   "source": [
    "# Setup the path where labeled text files are located \n",
    "txtFilesPath = r\"C:\\Users\\rzamb\\Desktop\\Desktop\\UMD\\641_Natural_Language_Processing\\finalProject\\txtFiles\""
   ]
  },
  {
   "cell_type": "code",
   "execution_count": 3,
   "metadata": {},
   "outputs": [],
   "source": [
    "def extractLalebedFile(filePath):\n",
    "    \"\"\"Assumes a file path for a labeled news article saved as a .txt file, a string.\n",
    "    Returns a dictionary with the news article data\"\"\"\n",
    "    \n",
    "    # Define regular expression to recognize labels in the labeled text files\n",
    "    re1 = re.compile(r\"^source\")\n",
    "    re2 = re.compile(r\"^date\")\n",
    "    re3 = re.compile(r\"^section\")\n",
    "    re4 = re.compile(r\"^byline\")\n",
    "    re5 = re.compile(r\"^inflationPosition\")\n",
    "    re6 = re.compile(r\"^title\")\n",
    "    re7 = re.compile(r\"^subtitle\")\n",
    "    re8 = re.compile(r\"body\")\n",
    "    re9 = re.compile(r\"end\")\n",
    "    \n",
    "    # Open the file in the given path and read the lines in the .txt file\n",
    "    with open(filePath,'r',encoding=\"utf8\") as f:\n",
    "        lines = f.readlines()\n",
    "\n",
    "        textLines = [] # Initializes a list to store the lines of the body of the news article\n",
    "\n",
    "        for indx in range(len(lines)):\n",
    "            if bool(re1.search(lines[indx])):\n",
    "                source = re.split(r\":\",lines[indx])[1].strip().replace('\"', '') # Extracts the source of the article\n",
    "            if bool(re2.search(lines[indx])):\n",
    "                dateTxt = re.split(r\":\",lines[indx])[1].strip().replace('\"', '') # Extracts the date of the publication...\n",
    "                try:\n",
    "                    datePublish = datetime.strptime(dateTxt, '%Y-%m-%d')             # ... and saves it as a datetime\n",
    "                except:\n",
    "                    print(\"Cannot cast date at \",filePath,\" article as datetime\")\n",
    "                    datePublish = np.nan\n",
    "            if bool(re3.search(lines[indx])):\n",
    "                paperSection = re.split(r\":\",lines[indx])[1].strip().replace('\"', '') # Extracts the section of the publication\n",
    "            if bool(re4.search(lines[indx])):\n",
    "                byline = re.split(r\":\",lines[indx])[1].strip().replace('\"', '') # Extracts the author name(s)\n",
    "            if bool(re5.search(lines[indx])):\n",
    "                inflationLabel = re.split(r\":\",lines[indx])[1].strip().replace('\"', '') # Extracts the label given to the article\n",
    "            if bool(re6.search(lines[indx])):\n",
    "                currTitle = re.split(r\":\",lines[indx])[1].strip().replace('\"', '') # Extracts the title of the news piece\n",
    "            if bool(re7.search(lines[indx])):\n",
    "                currSubtitle = re.split(r\":\",lines[indx])[1].strip().replace('\"', '') # Extracts the subtitle of the news piece\n",
    "            if bool(re8.search(lines[indx])):\n",
    "                bodyStart = indx+1 # Recoords the line number where the body of the article starts\n",
    "            if bool(re9.search(lines[indx])):\n",
    "                bodyEnd = indx # Recoords the line number where the body of the article ends\n",
    "                \n",
    "        for indx in range(bodyStart,bodyEnd): # Extracts and format the main text of the article\n",
    "            currLine = lines[indx].lower() # .lower() replaces capital letters with lower case letters\n",
    "            currLine = currLine.translate(str.maketrans('', '', string.punctuation)) # To remove punctuation\n",
    "            currLine = currLine.replace(\"\\n\", \"\") # To remove new line \\n\n",
    "\n",
    "            textLines.append(currLine)\n",
    "            \n",
    "        #articleInfo = (source,datePublish,paperSection,currTitle,currSubtitle,byline,inflationLabel)\n",
    "        mainText = ' '.join(textLines) # Joins the lines of the article in a single string\n",
    "\n",
    "        # Final touches to pre-process the main text of the article\n",
    "        # To eliminate trailing or leading space\n",
    "\n",
    "        if mainText[0].isspace():\n",
    "            mainText = mainText[1:]\n",
    "\n",
    "        if mainText[len(mainText)-1].isspace():\n",
    "            mainText = mainText[:(len(mainText)-1)]\n",
    "        \n",
    "        #Builds the dictionary with the news article and the metadata associated with the article\n",
    "        articleData = {'authors':byline,\n",
    "                       'date_publish':datePublish,\n",
    "                       'section':paperSection,\n",
    "                       'publisher':source,\n",
    "                       'title':currTitle,\n",
    "                       'subtitle':currSubtitle,\n",
    "                       'label':inflationLabel,\n",
    "                       'maintext':mainText\n",
    "                      }\n",
    "\n",
    "        f.close()\n",
    "        \n",
    "        return(articleData)"
   ]
  },
  {
   "cell_type": "code",
   "execution_count": 4,
   "metadata": {},
   "outputs": [],
   "source": [
    "def readLabeledFiles(directory):\n",
    "    \"\"\"Assumes a path to a directory where labeled news articles are saved in .txt format, a strig\n",
    "    Returns a dictionary with all article data, the article data is a dict\"\"\"\n",
    "    \n",
    "    txtFilesPath =  directory\n",
    "    listTxtFiles = os.listdir(txtFilesPath)\n",
    "    \n",
    "    labeledArticles = {}\n",
    "    \n",
    "    for indx in range(len(listTxtFiles)):\n",
    "        currFilePath = os.path.join(txtFilesPath,listTxtFiles[indx]) # Creates the path for a specific file\n",
    "        articleMetadata = extractLalebedFile(currFilePath) # Extracts the data from the labeled news article\n",
    "        labeledArticles[indx] = articleMetadata # Adds article to dict\n",
    "    \n",
    "    return(labeledArticles)"
   ]
  },
  {
   "cell_type": "code",
   "execution_count": 5,
   "metadata": {},
   "outputs": [],
   "source": [
    "# Read a set of stoplist words from filename, assuming it contains one word per line\n",
    "# Return a python Set data structure (https://www.w3schools.com/python/python_sets.asp)\n",
    "def load_stopwords(filename):\n",
    "    stopwords = []\n",
    "    with codecs.open(filename, 'r', encoding='ascii', errors='ignore') as fp:\n",
    "        stopwords = fp.read().split('\\n')\n",
    "    return set(stopwords)\n",
    "\n",
    "# Loading stopwords in order to get smaller vectors\n",
    "stopwords_file = 'mallet_en_stoplist.txt'\n",
    "stop_words = load_stopwords(stopwords_file)\n",
    "stop_words = list(stop_words)"
   ]
  },
  {
   "cell_type": "code",
   "execution_count": 6,
   "metadata": {},
   "outputs": [
    {
     "name": "stdout",
     "output_type": "stream",
     "text": [
      "Cannot cast date at  C:\\Users\\rzamb\\Desktop\\Desktop\\UMD\\641_Natural_Language_Processing\\finalProject\\txtFiles\\file18.txt  article as datetime\n"
     ]
    }
   ],
   "source": [
    "labeledNews = readLabeledFiles(txtFilesPath)"
   ]
  },
  {
   "cell_type": "code",
   "execution_count": 7,
   "metadata": {},
   "outputs": [
    {
     "data": {
      "text/plain": [
       "{'authors': 'Ana Swanson',\n",
       " 'date_publish': datetime.datetime(2022, 8, 25, 0, 0),\n",
       " 'section': 'Section B; Column 0; Business/Financial Desk; Pg. 2',\n",
       " 'publisher': 'The New York Times',\n",
       " 'title': 'Consumer Demand Is Key To Rise in U.S.',\n",
       " 'subtitle': '',\n",
       " 'label': 'Expect Inflation',\n",
       " 'maintext': 'research has found that americans spending during the pandemic accounted for about 60 of inflation from 201921  supply chain bottlenecks and labor shortages have been a major factor driving inflation in the united states though surging consumer demand ultimately did more to drive up prices in the last two years according to researchers at the federal reserve bank of new york the university of maryland and harvard university  in a blog post on wednesday julian di giovanni the head of climate risk studies in the new york feds research and statistics group summarized findings from a paper presented in june that found higher consumer demand for all types of products during the pandemic was responsible for roughly 60 percent of the inflation in the united states between 2019 and 2021  supply shocks  which include shortages of workers raw materials and shipping containers needed to produce and move goods globally  accounted for the remaining 40 percent of inflation in the model with 58 of 66 industrial sectors that the research identified experiencing supply constraints  the researchers concluded that without supply bottlenecks inflation in the united states would have been 6 percent at the end of 2021 instead of 9 percent the research finds that demand shocks played a larger role in explaining inflation in the united states whereas supply chain bottlenecks have done more to fuel inflation in europe  the bottom line of this decomposition is that supply constraints magnified the impact of higher demand in inflation mr di giovanni wrote the findings provide one answer to a debate that policymakers and politicians have been wrestling with about the nature of inflation which slowed slightly to 85 percent in july while many economists point to the governments generous spending to support americans during the pandemic as a key factor fueling inflation the biden administration has often blamed global supply chain issues and rising fuel prices stemming from the russian invasion of ukraine  the debate has important implications for the actions policymakers can take to fight price increases the federal reserve has aggressively raised interest rates to try to cool consumer demand and the economy but it has no tools to alleviate supply constraints  congress and the biden administration have begun making big investments in infrastructure and providing incentives for manufacturers of key products like semiconductors to invest in the united states but the impact from those policies will take years to be felt  there have been signs recently that supply chain shocks are easing and mr di giovanni said that could be good news for the us inflation rate in the absence of new energy shocks or other surprises its possible that the easing of bottlenecks in the supply chain will cause a substantial drop in inflation in the near term he wrote wednesday'}"
      ]
     },
     "execution_count": 7,
     "metadata": {},
     "output_type": "execute_result"
    }
   ],
   "source": [
    "# Check that the dict was loaded correctly\n",
    "labeledNews[0]"
   ]
  },
  {
   "cell_type": "code",
   "execution_count": 8,
   "metadata": {},
   "outputs": [],
   "source": [
    "# I am creating this class in order to keep the labeled articls in an inmutable data structure\n",
    "class labeledArticle(NamedTuple):\n",
    "    \"\"\"A class for news articles that have been labeled by a human\"\"\"\n",
    "    articleID: int\n",
    "    label: str\n",
    "    body: str"
   ]
  },
  {
   "cell_type": "code",
   "execution_count": 9,
   "metadata": {},
   "outputs": [],
   "source": [
    "# Creating instances of labeledArticle. The idea is to be able to shuffle and split the articles into \n",
    "# training set and test set while keeping track of the labels and article IDs\n",
    "articlesSample = []\n",
    "for key,value in labeledNews.items():\n",
    "    articlesSample.append(labeledArticle(articleID=key,label=value.get('label'),body=value.get('maintext')))"
   ]
  },
  {
   "cell_type": "code",
   "execution_count": 10,
   "metadata": {},
   "outputs": [
    {
     "data": {
      "text/plain": [
       "[labeledArticle(articleID=0, label='Expect Inflation', body='research has found that americans spending during the pandemic accounted for about 60 of inflation from 201921  supply chain bottlenecks and labor shortages have been a major factor driving inflation in the united states though surging consumer demand ultimately did more to drive up prices in the last two years according to researchers at the federal reserve bank of new york the university of maryland and harvard university  in a blog post on wednesday julian di giovanni the head of climate risk studies in the new york feds research and statistics group summarized findings from a paper presented in june that found higher consumer demand for all types of products during the pandemic was responsible for roughly 60 percent of the inflation in the united states between 2019 and 2021  supply shocks  which include shortages of workers raw materials and shipping containers needed to produce and move goods globally  accounted for the remaining 40 percent of inflation in the model with 58 of 66 industrial sectors that the research identified experiencing supply constraints  the researchers concluded that without supply bottlenecks inflation in the united states would have been 6 percent at the end of 2021 instead of 9 percent the research finds that demand shocks played a larger role in explaining inflation in the united states whereas supply chain bottlenecks have done more to fuel inflation in europe  the bottom line of this decomposition is that supply constraints magnified the impact of higher demand in inflation mr di giovanni wrote the findings provide one answer to a debate that policymakers and politicians have been wrestling with about the nature of inflation which slowed slightly to 85 percent in july while many economists point to the governments generous spending to support americans during the pandemic as a key factor fueling inflation the biden administration has often blamed global supply chain issues and rising fuel prices stemming from the russian invasion of ukraine  the debate has important implications for the actions policymakers can take to fight price increases the federal reserve has aggressively raised interest rates to try to cool consumer demand and the economy but it has no tools to alleviate supply constraints  congress and the biden administration have begun making big investments in infrastructure and providing incentives for manufacturers of key products like semiconductors to invest in the united states but the impact from those policies will take years to be felt  there have been signs recently that supply chain shocks are easing and mr di giovanni said that could be good news for the us inflation rate in the absence of new energy shocks or other surprises its possible that the easing of bottlenecks in the supply chain will cause a substantial drop in inflation in the near term he wrote wednesday'),\n",
       " labeledArticle(articleID=1, label='Neutral', body='so does the rich world’s current bout of inflation have minimal costs or even none at all the trouble for economists is that there is a world outside their research few people know or care about their results but they know what they think about inflation they utterly implacably loathe it  inflation seems to hold a special place in the public consciousness our analysis of englishlanguage newspapers and blog posts suggests that during the 2010s media organisations mentioned inflation 50 more frequently than they mentioned unemployment even though joblessness during that decade was a farbigger economic problem in the 1990s robert shiller of yale university asked people in a number of countries about their opinions on inflation and compared them with the views of economists he found that ordinary people held much more extreme views on the subject than the academics who study it for a living  people believe that inflation makes them poorer they worry it makes it harder to plan and they believe that inflation is a sign that unscrupulous companies are taking advantage of them twothirds of americans ascribe the recent rise in inflation to corporate greed economists by contrast are more equivocal in their answers more than half of americans “fully agreed” that preventing high inflation was as important as stopping drug abuse or maintaining educational standards compared with just 18 of economists in the same survey mr shiller found that 46 of people wanted the government to lower the price level after an inflation spike ie to engineer deflation something few economists would recommend  get real  perhaps policymakers should just ignore the views of ordinary people if experts find that inflation has surprisingly low costs then what more information is needed to guide policy another way of looking at it however is that the psychological costs of high inflation are real and that central bankers and governments should take them into account fighting inflation by forcefully tightening fiscal or monetary policy is often seen as a hardnosed choice because it cools the economy and risks provoking a recession in fact it is one of the most populist policies out there')]"
      ]
     },
     "execution_count": 10,
     "metadata": {},
     "output_type": "execute_result"
    }
   ],
   "source": [
    "articlesSample[:2]"
   ]
  },
  {
   "cell_type": "code",
   "execution_count": 11,
   "metadata": {},
   "outputs": [
    {
     "name": "stdout",
     "output_type": "stream",
     "text": [
      "label:  Expect Inflation\n",
      "body:  research has found that americans spending during the pandemic accounted for about 60 of inflation from 201921  supply chain bottlenecks and labor shortages have been a major factor driving inflation in the united states though surging consumer demand ultimately did more to drive up prices in the last two years according to researchers at the federal reserve bank of new york the university of maryland and harvard university  in a blog post on wednesday julian di giovanni the head of climate risk studies in the new york feds research and statistics group summarized findings from a paper presented in june that found higher consumer demand for all types of products during the pandemic was responsible for roughly 60 percent of the inflation in the united states between 2019 and 2021  supply shocks  which include shortages of workers raw materials and shipping containers needed to produce and move goods globally  accounted for the remaining 40 percent of inflation in the model with 58 of 66 industrial sectors that the research identified experiencing supply constraints  the researchers concluded that without supply bottlenecks inflation in the united states would have been 6 percent at the end of 2021 instead of 9 percent the research finds that demand shocks played a larger role in explaining inflation in the united states whereas supply chain bottlenecks have done more to fuel inflation in europe  the bottom line of this decomposition is that supply constraints magnified the impact of higher demand in inflation mr di giovanni wrote the findings provide one answer to a debate that policymakers and politicians have been wrestling with about the nature of inflation which slowed slightly to 85 percent in july while many economists point to the governments generous spending to support americans during the pandemic as a key factor fueling inflation the biden administration has often blamed global supply chain issues and rising fuel prices stemming from the russian invasion of ukraine  the debate has important implications for the actions policymakers can take to fight price increases the federal reserve has aggressively raised interest rates to try to cool consumer demand and the economy but it has no tools to alleviate supply constraints  congress and the biden administration have begun making big investments in infrastructure and providing incentives for manufacturers of key products like semiconductors to invest in the united states but the impact from those policies will take years to be felt  there have been signs recently that supply chain shocks are easing and mr di giovanni said that could be good news for the us inflation rate in the absence of new energy shocks or other surprises its possible that the easing of bottlenecks in the supply chain will cause a substantial drop in inflation in the near term he wrote wednesday\n"
     ]
    }
   ],
   "source": [
    "print('label: ',articlesSample[0][1])\n",
    "print('body: ',articlesSample[0][2])"
   ]
  },
  {
   "cell_type": "code",
   "execution_count": 12,
   "metadata": {},
   "outputs": [],
   "source": [
    "# Example of list of labels: [articlesSample[x][1] for x in range(len(articlesSample))]\n",
    "# Example of list of article bodies: [articlesSample[x][2] for x in range(len(articlesSample))]"
   ]
  },
  {
   "cell_type": "code",
   "execution_count": 13,
   "metadata": {},
   "outputs": [],
   "source": [
    "X_train, X_test, y_train, y_test = train_test_split([articlesSample[x][2] for x in range(len(articlesSample))], \n",
    "                                                    [articlesSample[x][1] for x in range(len(articlesSample))], \n",
    "                                                    test_size=0.2)"
   ]
  },
  {
   "cell_type": "markdown",
   "metadata": {},
   "source": [
    "To make sure the train_test_split() function kept the order of body and labels"
   ]
  },
  {
   "cell_type": "code",
   "execution_count": 14,
   "metadata": {},
   "outputs": [
    {
     "data": {
      "text/plain": [
       "'before the pandemic the idea of an annual rate of inflation of 10 in the euro zone would have seemed like a horror story in november it was good news inflation had been 106 the month before a similar surprise came from america as inflation falls so does the expected pace of interestrate increases on december 14th and 15th the federal reserve european central bank and bank of england will each probably raise rates by half a percentage point—a deceleration from the threequarterpoint rises that have recently prevailed  globally inflation has begun to decline primarily because energy prices have eased since the summer and because supply chains long gummed up by the pandemic are operating more smoothly yet inflation remains a very long way from central banks’ 2 targets there are three reasons to think ratesetters will struggle to hit their goals soon  the first is a continued scarcity of workers while the news on prices has been good the latest wage data are worrying in america average hourly earnings had shown encouraging signs of softening since august but updated figures released on december 2nd upended the picture showing annualised growth of 51 over the past three months roughly in line with other surveys since the data came out stock markets in america have fallen in expectation of prolonged interestrate rises in britain wages are growing at a similar rate a wave of strikes may prompt still bigger increases the euro zone’s labour markets though not as sizzling are hot enough to make policymakers worry that energy inflation could affect the rest of the economy as workers bargain for higher wages to off set rising living costs  the second problem is fiscal policy it would help central banks to cool labour markets if governments shrank their budget deficits yet america’s recent inflation reduction act makes only a minimal dent in government borrowing and the biden administration is trying to forgive swathes of student debt europe is splurging on energy subsidies despite warnings from the imf and others that it is unwise to stimulate economies which lack spare productive capacity—a mistake america made in 2021 when president joe biden’s “american rescue plan” overheated the economy if the eu retains its measures throughout 2023 the cost net of taxes raised to fund the handouts will reach nearly 2 of gdp see chart in aggregate britain’s much advertised belttightening will not begin until 2025 thanks to its costly energyprice cap  nearly twothirds of the eu’s energy spending is on controlling prices for everyone which is expensive and discourages energy saving only a fifth comes in the form of targeted redistribution to the needy the approach recommended by the likes of the imf even germany which has capped prices only up to 80 of a household’s previous usage is still borrowing to fund the scheme meaning that it will deliver an economic stimulus  the final danger is that energy inflation returns in 2023 this year europe’s economies have benefited from weak competition for scarce supplies of global liquefied natural gas lng in part because china’s economyhas been hampered by its zerocovid policy but china has begun to loosen its pandemic controls if its economy reopens and rebounds lng prices could surge in 2023 central bankers’ battle with inflation has reached an inflection point but it will not be won for a long time'"
      ]
     },
     "execution_count": 14,
     "metadata": {},
     "output_type": "execute_result"
    }
   ],
   "source": [
    "X_train[0]"
   ]
  },
  {
   "cell_type": "code",
   "execution_count": 15,
   "metadata": {},
   "outputs": [
    {
     "data": {
      "text/plain": [
       "'Expect Inflation'"
      ]
     },
     "execution_count": 15,
     "metadata": {},
     "output_type": "execute_result"
    }
   ],
   "source": [
    "y_train[0]"
   ]
  },
  {
   "cell_type": "code",
   "execution_count": 16,
   "metadata": {},
   "outputs": [
    {
     "name": "stdout",
     "output_type": "stream",
     "text": [
      "labeledArticle(articleID=5, label='Expect Inflation', body='before the pandemic the idea of an annual rate of inflation of 10 in the euro zone would have seemed like a horror story in november it was good news inflation had been 106 the month before a similar surprise came from america as inflation falls so does the expected pace of interestrate increases on december 14th and 15th the federal reserve european central bank and bank of england will each probably raise rates by half a percentage point—a deceleration from the threequarterpoint rises that have recently prevailed  globally inflation has begun to decline primarily because energy prices have eased since the summer and because supply chains long gummed up by the pandemic are operating more smoothly yet inflation remains a very long way from central banks’ 2 targets there are three reasons to think ratesetters will struggle to hit their goals soon  the first is a continued scarcity of workers while the news on prices has been good the latest wage data are worrying in america average hourly earnings had shown encouraging signs of softening since august but updated figures released on december 2nd upended the picture showing annualised growth of 51 over the past three months roughly in line with other surveys since the data came out stock markets in america have fallen in expectation of prolonged interestrate rises in britain wages are growing at a similar rate a wave of strikes may prompt still bigger increases the euro zone’s labour markets though not as sizzling are hot enough to make policymakers worry that energy inflation could affect the rest of the economy as workers bargain for higher wages to off set rising living costs  the second problem is fiscal policy it would help central banks to cool labour markets if governments shrank their budget deficits yet america’s recent inflation reduction act makes only a minimal dent in government borrowing and the biden administration is trying to forgive swathes of student debt europe is splurging on energy subsidies despite warnings from the imf and others that it is unwise to stimulate economies which lack spare productive capacity—a mistake america made in 2021 when president joe biden’s “american rescue plan” overheated the economy if the eu retains its measures throughout 2023 the cost net of taxes raised to fund the handouts will reach nearly 2 of gdp see chart in aggregate britain’s much advertised belttightening will not begin until 2025 thanks to its costly energyprice cap  nearly twothirds of the eu’s energy spending is on controlling prices for everyone which is expensive and discourages energy saving only a fifth comes in the form of targeted redistribution to the needy the approach recommended by the likes of the imf even germany which has capped prices only up to 80 of a household’s previous usage is still borrowing to fund the scheme meaning that it will deliver an economic stimulus  the final danger is that energy inflation returns in 2023 this year europe’s economies have benefited from weak competition for scarce supplies of global liquefied natural gas lng in part because china’s economyhas been hampered by its zerocovid policy but china has begun to loosen its pandemic controls if its economy reopens and rebounds lng prices could surge in 2023 central bankers’ battle with inflation has reached an inflection point but it will not be won for a long time')\n"
     ]
    }
   ],
   "source": [
    "sampleBody = X_train[0]\n",
    "for i in range(len(articlesSample)):\n",
    "    if articlesSample[i][2] == sampleBody:\n",
    "        print(articlesSample[i])"
   ]
  },
  {
   "cell_type": "markdown",
   "metadata": {},
   "source": [
    "**Encoding with BOW model the training set and the test set**"
   ]
  },
  {
   "cell_type": "code",
   "execution_count": 17,
   "metadata": {},
   "outputs": [],
   "source": [
    "# Sets up the BOW using 2-gram, 3-gram, 4-gram. It filters stop words\n",
    "vectorizer = CountVectorizer(ngram_range=(2, 4),stop_words = stop_words)"
   ]
  },
  {
   "cell_type": "code",
   "execution_count": 18,
   "metadata": {},
   "outputs": [
    {
     "data": {
      "text/plain": [
       "CountVectorizer(ngram_range=(2, 4),\n",
       "                stop_words=['say', '', 'goes', 'it', 'look', 'changes', 'not',\n",
       "                            'now', 'rd', 'well', 'after', 'different', 'r',\n",
       "                            'hardly', 'down', 'thanks', 'need', 'except',\n",
       "                            'novel', 'regards', 'thereupon', 'thereafter',\n",
       "                            'him', 'despite', 'all', 'exactly', 'through', 'we',\n",
       "                            'his', 'much', ...])"
      ]
     },
     "execution_count": 18,
     "metadata": {},
     "output_type": "execute_result"
    }
   ],
   "source": [
    "# tokenize and build vocab\n",
    "vectorizer.fit(X_train)"
   ]
  },
  {
   "cell_type": "code",
   "execution_count": 19,
   "metadata": {},
   "outputs": [
    {
     "name": "stdout",
     "output_type": "stream",
     "text": [
      "42650\n"
     ]
    }
   ],
   "source": [
    "# summarize\n",
    "print(len(vectorizer.vocabulary_))"
   ]
  },
  {
   "cell_type": "code",
   "execution_count": 20,
   "metadata": {},
   "outputs": [],
   "source": [
    "# This function encodes the categorical labels\n",
    "Encoder = LabelEncoder()\n",
    "y_train_encoded = Encoder.fit_transform(y_train)\n",
    "y_test_encoded = Encoder.fit_transform(y_test)"
   ]
  },
  {
   "cell_type": "code",
   "execution_count": 21,
   "metadata": {},
   "outputs": [
    {
     "data": {
      "text/plain": [
       "array([0, 2, 0, 0, 1, 1, 0, 2, 0, 0, 2, 0, 1, 2, 0, 0, 1, 0, 0, 1, 1, 2,\n",
       "       1, 0, 2, 0, 0, 0, 0, 0, 0, 1, 0, 1, 1, 2, 1, 2, 2, 1], dtype=int64)"
      ]
     },
     "execution_count": 21,
     "metadata": {},
     "output_type": "execute_result"
    }
   ],
   "source": [
    "y_train_encoded"
   ]
  },
  {
   "cell_type": "code",
   "execution_count": 22,
   "metadata": {},
   "outputs": [
    {
     "data": {
      "text/plain": [
       "{'Expect Inflation', 'Inflation will fade away', 'Neutral'}"
      ]
     },
     "execution_count": 22,
     "metadata": {},
     "output_type": "execute_result"
    }
   ],
   "source": [
    "set(y_train)"
   ]
  },
  {
   "cell_type": "code",
   "execution_count": 23,
   "metadata": {},
   "outputs": [
    {
     "data": {
      "text/plain": [
       "{'Expect Inflation', 'Inflation will fade away'}"
      ]
     },
     "execution_count": 23,
     "metadata": {},
     "output_type": "execute_result"
    }
   ],
   "source": [
    "set(y_test)"
   ]
  },
  {
   "cell_type": "code",
   "execution_count": 24,
   "metadata": {},
   "outputs": [],
   "source": [
    "X_train_BOW = vectorizer.transform(X_train)\n",
    "X_test_BOW = vectorizer.transform(X_test)"
   ]
  },
  {
   "cell_type": "code",
   "execution_count": 25,
   "metadata": {},
   "outputs": [
    {
     "data": {
      "text/plain": [
       "(40, 42650)"
      ]
     },
     "execution_count": 25,
     "metadata": {},
     "output_type": "execute_result"
    }
   ],
   "source": [
    "X_train_BOW.shape"
   ]
  },
  {
   "cell_type": "markdown",
   "metadata": {},
   "source": [
    "**Fitting a Naive Bayes Model**"
   ]
  },
  {
   "cell_type": "code",
   "execution_count": 26,
   "metadata": {},
   "outputs": [
    {
     "data": {
      "text/plain": [
       "MultinomialNB()"
      ]
     },
     "execution_count": 26,
     "metadata": {},
     "output_type": "execute_result"
    }
   ],
   "source": [
    "# fit the training dataset on the NB classifier\n",
    "Naive = naive_bayes.MultinomialNB()\n",
    "Naive.fit(X_train_BOW,y_train_encoded)"
   ]
  },
  {
   "cell_type": "code",
   "execution_count": 27,
   "metadata": {},
   "outputs": [],
   "source": [
    "# predict the labels on validation dataset\n",
    "predictions_NB = Naive.predict(X_test_BOW)"
   ]
  },
  {
   "cell_type": "code",
   "execution_count": 28,
   "metadata": {},
   "outputs": [
    {
     "name": "stdout",
     "output_type": "stream",
     "text": [
      "[0 1 0 1 0 0 0 0 0 0]\n",
      "[1 0 1 1 0 0 0 0 0 0]\n"
     ]
    }
   ],
   "source": [
    "print(predictions_NB)\n",
    "print(y_test_encoded)"
   ]
  },
  {
   "cell_type": "code",
   "execution_count": 29,
   "metadata": {},
   "outputs": [
    {
     "name": "stdout",
     "output_type": "stream",
     "text": [
      "Naive Bayes Accuracy Score ->  0.7\n"
     ]
    }
   ],
   "source": [
    "# Use accuracy_score function to get the accuracy\n",
    "accuracy_bow_nb = accuracy_score(y_test_encoded,predictions_NB)\n",
    "print(\"Naive Bayes Accuracy Score -> \",accuracy_bow_nb)"
   ]
  },
  {
   "cell_type": "code",
   "execution_count": 30,
   "metadata": {},
   "outputs": [
    {
     "name": "stdout",
     "output_type": "stream",
     "text": [
      "Naive Bayes Recall Score ->  0.7\n"
     ]
    }
   ],
   "source": [
    "recall_bow_nb = recall_score(y_test_encoded,predictions_NB, average='micro')\n",
    "print(\"Naive Bayes Recall Score -> \", recall_bow_nb)"
   ]
  },
  {
   "cell_type": "code",
   "execution_count": 31,
   "metadata": {},
   "outputs": [
    {
     "name": "stdout",
     "output_type": "stream",
     "text": [
      "Naive Bayes Precision Score ->  0.7\n"
     ]
    }
   ],
   "source": [
    "precision_bow_nb = precision_score(y_test_encoded,predictions_NB, average='micro')\n",
    "print(\"Naive Bayes Precision Score -> \", precision_bow_nb)"
   ]
  },
  {
   "cell_type": "code",
   "execution_count": 33,
   "metadata": {},
   "outputs": [
    {
     "name": "stdout",
     "output_type": "stream",
     "text": [
      "              precision    recall  f1-score   support\n",
      "\n",
      "           0       0.75      0.86      0.80         7\n",
      "           1       0.50      0.33      0.40         3\n",
      "\n",
      "    accuracy                           0.70        10\n",
      "   macro avg       0.62      0.60      0.60        10\n",
      "weighted avg       0.68      0.70      0.68        10\n",
      "\n"
     ]
    }
   ],
   "source": [
    "target_names = ['Expect inflation', 'Inflation will go away', 'Neutral']\n",
    "clsf_rep_nb = classification_report(y_test_encoded,predictions_NB)\n",
    "print(clsf_rep_nb)"
   ]
  },
  {
   "cell_type": "markdown",
   "metadata": {},
   "source": [
    "**Fitting an SVM Model**"
   ]
  },
  {
   "cell_type": "code",
   "execution_count": 34,
   "metadata": {},
   "outputs": [
    {
     "data": {
      "text/plain": [
       "SVC(gamma='auto', kernel='linear')"
      ]
     },
     "execution_count": 34,
     "metadata": {},
     "output_type": "execute_result"
    }
   ],
   "source": [
    "# fit the training dataset on the classifier\n",
    "SVM = svm.SVC(C=1.0, kernel='linear', degree=3, gamma='auto')\n",
    "SVM.fit(X_train_BOW,y_train_encoded)"
   ]
  },
  {
   "cell_type": "code",
   "execution_count": 35,
   "metadata": {},
   "outputs": [],
   "source": [
    "# predict the labels on test dataset\n",
    "predictions_SVM = SVM.predict(X_test_BOW)"
   ]
  },
  {
   "cell_type": "code",
   "execution_count": 36,
   "metadata": {},
   "outputs": [
    {
     "name": "stdout",
     "output_type": "stream",
     "text": [
      "[0 2 0 0 0 0 0 2 2 0]\n",
      "[1 0 1 1 0 0 0 0 0 0]\n"
     ]
    }
   ],
   "source": [
    "print(predictions_SVM)\n",
    "print(y_test_encoded)"
   ]
  },
  {
   "cell_type": "code",
   "execution_count": 37,
   "metadata": {},
   "outputs": [
    {
     "name": "stdout",
     "output_type": "stream",
     "text": [
      "SVM Accuracy Score ->  0.4\n"
     ]
    }
   ],
   "source": [
    "# Use accuracy_score function to get the accuracy\n",
    "accuracy_bow_svm = accuracy_score(y_test_encoded,predictions_SVM)\n",
    "print(\"SVM Accuracy Score -> \",accuracy_bow_svm)"
   ]
  },
  {
   "cell_type": "code",
   "execution_count": 38,
   "metadata": {},
   "outputs": [
    {
     "name": "stdout",
     "output_type": "stream",
     "text": [
      "SVM Recall Score ->  0.4\n"
     ]
    }
   ],
   "source": [
    "recall_bow_svm = recall_score(y_test_encoded,predictions_SVM, average='micro')\n",
    "print(\"SVM Recall Score -> \", recall_bow_svm)"
   ]
  },
  {
   "cell_type": "code",
   "execution_count": 39,
   "metadata": {},
   "outputs": [
    {
     "name": "stdout",
     "output_type": "stream",
     "text": [
      "SVM Precision Score ->  0.4\n"
     ]
    }
   ],
   "source": [
    "precision_bow_svm = precision_score(y_test_encoded,predictions_SVM, average='micro')\n",
    "print(\"SVM Precision Score -> \", precision_bow_svm)"
   ]
  },
  {
   "cell_type": "code",
   "execution_count": 40,
   "metadata": {},
   "outputs": [
    {
     "name": "stdout",
     "output_type": "stream",
     "text": [
      "                        precision    recall  f1-score   support\n",
      "\n",
      "      Expect inflation       0.57      0.57      0.57         7\n",
      "Inflation will go away       0.00      0.00      0.00         3\n",
      "               Neutral       0.00      0.00      0.00         0\n",
      "\n",
      "              accuracy                           0.40        10\n",
      "             macro avg       0.19      0.19      0.19        10\n",
      "          weighted avg       0.40      0.40      0.40        10\n",
      "\n"
     ]
    },
    {
     "name": "stderr",
     "output_type": "stream",
     "text": [
      "C:\\Users\\rzamb\\AppData\\Local\\Continuum\\anaconda3\\lib\\site-packages\\sklearn\\metrics\\_classification.py:1248: UndefinedMetricWarning: Precision and F-score are ill-defined and being set to 0.0 in labels with no predicted samples. Use `zero_division` parameter to control this behavior.\n",
      "  _warn_prf(average, modifier, msg_start, len(result))\n",
      "C:\\Users\\rzamb\\AppData\\Local\\Continuum\\anaconda3\\lib\\site-packages\\sklearn\\metrics\\_classification.py:1248: UndefinedMetricWarning: Recall and F-score are ill-defined and being set to 0.0 in labels with no true samples. Use `zero_division` parameter to control this behavior.\n",
      "  _warn_prf(average, modifier, msg_start, len(result))\n",
      "C:\\Users\\rzamb\\AppData\\Local\\Continuum\\anaconda3\\lib\\site-packages\\sklearn\\metrics\\_classification.py:1248: UndefinedMetricWarning: Precision and F-score are ill-defined and being set to 0.0 in labels with no predicted samples. Use `zero_division` parameter to control this behavior.\n",
      "  _warn_prf(average, modifier, msg_start, len(result))\n",
      "C:\\Users\\rzamb\\AppData\\Local\\Continuum\\anaconda3\\lib\\site-packages\\sklearn\\metrics\\_classification.py:1248: UndefinedMetricWarning: Recall and F-score are ill-defined and being set to 0.0 in labels with no true samples. Use `zero_division` parameter to control this behavior.\n",
      "  _warn_prf(average, modifier, msg_start, len(result))\n",
      "C:\\Users\\rzamb\\AppData\\Local\\Continuum\\anaconda3\\lib\\site-packages\\sklearn\\metrics\\_classification.py:1248: UndefinedMetricWarning: Precision and F-score are ill-defined and being set to 0.0 in labels with no predicted samples. Use `zero_division` parameter to control this behavior.\n",
      "  _warn_prf(average, modifier, msg_start, len(result))\n",
      "C:\\Users\\rzamb\\AppData\\Local\\Continuum\\anaconda3\\lib\\site-packages\\sklearn\\metrics\\_classification.py:1248: UndefinedMetricWarning: Recall and F-score are ill-defined and being set to 0.0 in labels with no true samples. Use `zero_division` parameter to control this behavior.\n",
      "  _warn_prf(average, modifier, msg_start, len(result))\n"
     ]
    }
   ],
   "source": [
    "target_names = ['Expect inflation', 'Inflation will go away', 'Neutral']\n",
    "clsf_rep_svm = classification_report(y_test_encoded,predictions_SVM, target_names=target_names)\n",
    "print(clsf_rep_svm)"
   ]
  },
  {
   "cell_type": "markdown",
   "metadata": {},
   "source": [
    "**Encoding with TfIdf model the training set and the test set**"
   ]
  },
  {
   "cell_type": "code",
   "execution_count": 41,
   "metadata": {},
   "outputs": [],
   "source": [
    "# Sets up the BOW using 2-gram, 3-gram, 4-gram. It filters stop words\n",
    "vectorizer2 = TfidfVectorizer(ngram_range=(2, 4),stop_words = stop_words)"
   ]
  },
  {
   "cell_type": "code",
   "execution_count": 42,
   "metadata": {},
   "outputs": [
    {
     "data": {
      "text/plain": [
       "TfidfVectorizer(ngram_range=(2, 4),\n",
       "                stop_words=['say', '', 'goes', 'it', 'look', 'changes', 'not',\n",
       "                            'now', 'rd', 'well', 'after', 'different', 'r',\n",
       "                            'hardly', 'down', 'thanks', 'need', 'except',\n",
       "                            'novel', 'regards', 'thereupon', 'thereafter',\n",
       "                            'him', 'despite', 'all', 'exactly', 'through', 'we',\n",
       "                            'his', 'much', ...])"
      ]
     },
     "execution_count": 42,
     "metadata": {},
     "output_type": "execute_result"
    }
   ],
   "source": [
    "# tokenize and build vocab\n",
    "vectorizer2.fit(X_train)"
   ]
  },
  {
   "cell_type": "code",
   "execution_count": 43,
   "metadata": {},
   "outputs": [
    {
     "name": "stdout",
     "output_type": "stream",
     "text": [
      "42650\n"
     ]
    }
   ],
   "source": [
    "# summarize\n",
    "print(len(vectorizer2.vocabulary_))"
   ]
  },
  {
   "cell_type": "code",
   "execution_count": 44,
   "metadata": {},
   "outputs": [],
   "source": [
    "X_train_Tfidf = vectorizer2.transform(X_train)\n",
    "X_test_Tfidf = vectorizer2.transform(X_test)"
   ]
  },
  {
   "cell_type": "code",
   "execution_count": 45,
   "metadata": {},
   "outputs": [
    {
     "data": {
      "text/plain": [
       "(40, 42650)"
      ]
     },
     "execution_count": 45,
     "metadata": {},
     "output_type": "execute_result"
    }
   ],
   "source": [
    "X_train_Tfidf.shape"
   ]
  },
  {
   "cell_type": "markdown",
   "metadata": {},
   "source": [
    "**Fitting a Naive Bayes Model for Tf-idf encoding**"
   ]
  },
  {
   "cell_type": "code",
   "execution_count": 46,
   "metadata": {},
   "outputs": [
    {
     "data": {
      "text/plain": [
       "MultinomialNB()"
      ]
     },
     "execution_count": 46,
     "metadata": {},
     "output_type": "execute_result"
    }
   ],
   "source": [
    "# fit the training dataset on the NB classifier\n",
    "Naive2 = naive_bayes.MultinomialNB()\n",
    "Naive2.fit(X_train_Tfidf,y_train_encoded)"
   ]
  },
  {
   "cell_type": "code",
   "execution_count": 47,
   "metadata": {},
   "outputs": [],
   "source": [
    "# predict the labels on validation dataset\n",
    "predictions_NB2 = Naive2.predict(X_test_Tfidf)"
   ]
  },
  {
   "cell_type": "code",
   "execution_count": 48,
   "metadata": {},
   "outputs": [
    {
     "name": "stdout",
     "output_type": "stream",
     "text": [
      "[0 0 0 0 0 0 0 0 0 0]\n",
      "[1 0 1 1 0 0 0 0 0 0]\n"
     ]
    }
   ],
   "source": [
    "print(predictions_NB2)\n",
    "print(y_test_encoded)"
   ]
  },
  {
   "cell_type": "code",
   "execution_count": 49,
   "metadata": {},
   "outputs": [
    {
     "name": "stdout",
     "output_type": "stream",
     "text": [
      "Naive Bayes Accuracy Score ->  0.7\n"
     ]
    }
   ],
   "source": [
    "# Use accuracy_score function to get the accuracy\n",
    "accuracy_Tfidf_nb = accuracy_score(y_test_encoded,predictions_NB2)\n",
    "print(\"Naive Bayes Accuracy Score -> \",accuracy_Tfidf_nb)"
   ]
  },
  {
   "cell_type": "code",
   "execution_count": 50,
   "metadata": {},
   "outputs": [
    {
     "name": "stdout",
     "output_type": "stream",
     "text": [
      "Naive Bayes Recall Score ->  0.7\n"
     ]
    }
   ],
   "source": [
    "recall_Tfidf_nb = recall_score(y_test_encoded,predictions_NB2, average='micro')\n",
    "print(\"Naive Bayes Recall Score -> \", recall_Tfidf_nb)"
   ]
  },
  {
   "cell_type": "code",
   "execution_count": 51,
   "metadata": {},
   "outputs": [
    {
     "name": "stdout",
     "output_type": "stream",
     "text": [
      "Naive Bayes Precision Score ->  0.7\n"
     ]
    }
   ],
   "source": [
    "precision_Tfidf_nb = precision_score(y_test_encoded,predictions_NB2, average='micro')\n",
    "print(\"Naive Bayes Precision Score -> \", precision_Tfidf_nb)"
   ]
  },
  {
   "cell_type": "code",
   "execution_count": 53,
   "metadata": {},
   "outputs": [
    {
     "name": "stdout",
     "output_type": "stream",
     "text": [
      "              precision    recall  f1-score   support\n",
      "\n",
      "           0       0.70      1.00      0.82         7\n",
      "           1       0.00      0.00      0.00         3\n",
      "\n",
      "    accuracy                           0.70        10\n",
      "   macro avg       0.35      0.50      0.41        10\n",
      "weighted avg       0.49      0.70      0.58        10\n",
      "\n"
     ]
    },
    {
     "name": "stderr",
     "output_type": "stream",
     "text": [
      "C:\\Users\\rzamb\\AppData\\Local\\Continuum\\anaconda3\\lib\\site-packages\\sklearn\\metrics\\_classification.py:1248: UndefinedMetricWarning: Precision and F-score are ill-defined and being set to 0.0 in labels with no predicted samples. Use `zero_division` parameter to control this behavior.\n",
      "  _warn_prf(average, modifier, msg_start, len(result))\n",
      "C:\\Users\\rzamb\\AppData\\Local\\Continuum\\anaconda3\\lib\\site-packages\\sklearn\\metrics\\_classification.py:1248: UndefinedMetricWarning: Precision and F-score are ill-defined and being set to 0.0 in labels with no predicted samples. Use `zero_division` parameter to control this behavior.\n",
      "  _warn_prf(average, modifier, msg_start, len(result))\n",
      "C:\\Users\\rzamb\\AppData\\Local\\Continuum\\anaconda3\\lib\\site-packages\\sklearn\\metrics\\_classification.py:1248: UndefinedMetricWarning: Precision and F-score are ill-defined and being set to 0.0 in labels with no predicted samples. Use `zero_division` parameter to control this behavior.\n",
      "  _warn_prf(average, modifier, msg_start, len(result))\n"
     ]
    }
   ],
   "source": [
    "target_names = ['Expect inflation', 'Inflation will go away', 'Neutral']\n",
    "clsf_rep_Tfidf_nb = classification_report(y_test_encoded,predictions_NB2)\n",
    "print(clsf_rep_Tfidf_nb)"
   ]
  },
  {
   "cell_type": "markdown",
   "metadata": {},
   "source": [
    "**Fitting an SVM Model for the TfIdf encoding**"
   ]
  },
  {
   "cell_type": "code",
   "execution_count": 54,
   "metadata": {},
   "outputs": [
    {
     "data": {
      "text/plain": [
       "SVC(gamma='auto', kernel='linear')"
      ]
     },
     "execution_count": 54,
     "metadata": {},
     "output_type": "execute_result"
    }
   ],
   "source": [
    "# fit the training dataset on the classifier\n",
    "SVM2 = svm.SVC(C=1.0, kernel='linear', degree=3, gamma='auto')\n",
    "SVM2.fit(X_train_Tfidf,y_train_encoded)"
   ]
  },
  {
   "cell_type": "code",
   "execution_count": 55,
   "metadata": {},
   "outputs": [],
   "source": [
    "predictions_SVM2 = SVM2.predict(X_test_Tfidf)"
   ]
  },
  {
   "cell_type": "code",
   "execution_count": 56,
   "metadata": {},
   "outputs": [
    {
     "name": "stdout",
     "output_type": "stream",
     "text": [
      "[0 0 0 0 0 0 0 0 0 0]\n",
      "[1 0 1 1 0 0 0 0 0 0]\n"
     ]
    }
   ],
   "source": [
    "print(predictions_SVM2)\n",
    "print(y_test_encoded)"
   ]
  },
  {
   "cell_type": "code",
   "execution_count": 57,
   "metadata": {},
   "outputs": [
    {
     "name": "stdout",
     "output_type": "stream",
     "text": [
      "Naive Bayes Accuracy Score ->  0.7\n"
     ]
    }
   ],
   "source": [
    "# Use accuracy_score function to get the accuracy\n",
    "accuracy_Tfidf_svm = accuracy_score(y_test_encoded,predictions_SVM2)\n",
    "print(\"Naive Bayes Accuracy Score -> \",accuracy_Tfidf_svm)"
   ]
  },
  {
   "cell_type": "code",
   "execution_count": 58,
   "metadata": {},
   "outputs": [
    {
     "name": "stdout",
     "output_type": "stream",
     "text": [
      "Naive Bayes Recall Score ->  0.7\n"
     ]
    }
   ],
   "source": [
    "recall_Tfidf_svm = recall_score(y_test_encoded,predictions_SVM2, average='micro')\n",
    "print(\"Naive Bayes Recall Score -> \", recall_Tfidf_svm)"
   ]
  },
  {
   "cell_type": "code",
   "execution_count": 59,
   "metadata": {},
   "outputs": [
    {
     "name": "stdout",
     "output_type": "stream",
     "text": [
      "Naive Bayes Precision Score ->  0.7\n"
     ]
    }
   ],
   "source": [
    "precision_Tfidf_svm = precision_score(y_test_encoded,predictions_SVM2, average='micro')\n",
    "print(\"Naive Bayes Precision Score -> \", precision_Tfidf_svm)"
   ]
  },
  {
   "cell_type": "code",
   "execution_count": 61,
   "metadata": {},
   "outputs": [
    {
     "name": "stdout",
     "output_type": "stream",
     "text": [
      "              precision    recall  f1-score   support\n",
      "\n",
      "           0       0.70      1.00      0.82         7\n",
      "           1       0.00      0.00      0.00         3\n",
      "\n",
      "    accuracy                           0.70        10\n",
      "   macro avg       0.35      0.50      0.41        10\n",
      "weighted avg       0.49      0.70      0.58        10\n",
      "\n"
     ]
    },
    {
     "name": "stderr",
     "output_type": "stream",
     "text": [
      "C:\\Users\\rzamb\\AppData\\Local\\Continuum\\anaconda3\\lib\\site-packages\\sklearn\\metrics\\_classification.py:1248: UndefinedMetricWarning: Precision and F-score are ill-defined and being set to 0.0 in labels with no predicted samples. Use `zero_division` parameter to control this behavior.\n",
      "  _warn_prf(average, modifier, msg_start, len(result))\n",
      "C:\\Users\\rzamb\\AppData\\Local\\Continuum\\anaconda3\\lib\\site-packages\\sklearn\\metrics\\_classification.py:1248: UndefinedMetricWarning: Precision and F-score are ill-defined and being set to 0.0 in labels with no predicted samples. Use `zero_division` parameter to control this behavior.\n",
      "  _warn_prf(average, modifier, msg_start, len(result))\n",
      "C:\\Users\\rzamb\\AppData\\Local\\Continuum\\anaconda3\\lib\\site-packages\\sklearn\\metrics\\_classification.py:1248: UndefinedMetricWarning: Precision and F-score are ill-defined and being set to 0.0 in labels with no predicted samples. Use `zero_division` parameter to control this behavior.\n",
      "  _warn_prf(average, modifier, msg_start, len(result))\n"
     ]
    }
   ],
   "source": [
    "target_names = ['Expect inflation', 'Inflation will go away', 'Neutral']\n",
    "clsf_rep_Tfidf_svm = classification_report(y_test_encoded,predictions_SVM2)\n",
    "print(clsf_rep_Tfidf_svm)"
   ]
  },
  {
   "cell_type": "markdown",
   "metadata": {},
   "source": [
    "**Encoding with gensim's Doc2Vec and predicting with cosine similarity**"
   ]
  },
  {
   "cell_type": "markdown",
   "metadata": {},
   "source": [
    "Follows the Doc2Vec model tutorial at: https://radimrehurek.com/gensim/auto_examples/tutorials/run_doc2vec_lee.html#sphx-glr-auto-examples-tutorials-run-doc2vec-lee-py"
   ]
  },
  {
   "cell_type": "code",
   "execution_count": 62,
   "metadata": {},
   "outputs": [],
   "source": [
    "def readNews(news,tokens_only=False):\n",
    "    \"\"\"Assumes a list with labeled news article data from a train-test split\n",
    "    Returns doc2vec.TaggedDocument structure.\n",
    "    Adapted from Doc2Vec Model Tutorial\"\"\"\n",
    "    for i, article in enumerate(news):\n",
    "        tokens = gensim.utils.simple_preprocess(article)\n",
    "        if tokens_only:\n",
    "            yield tokens\n",
    "        else:\n",
    "            # For training data, add tags\n",
    "            yield gensim.models.doc2vec.TaggedDocument(tokens, [i])"
   ]
  },
  {
   "cell_type": "code",
   "execution_count": 63,
   "metadata": {},
   "outputs": [],
   "source": [
    "train_corpus = list(readNews(X_train))\n",
    "test_corpus = list(readNews(X_test, tokens_only=True))"
   ]
  },
  {
   "cell_type": "code",
   "execution_count": 64,
   "metadata": {},
   "outputs": [],
   "source": [
    "# Creates the encoding model\n",
    "model = gensim.models.doc2vec.Doc2Vec(vector_size=50, min_count=2, epochs=40)"
   ]
  },
  {
   "cell_type": "code",
   "execution_count": 65,
   "metadata": {},
   "outputs": [],
   "source": [
    "# Creates a vocabulary from the feed data\n",
    "model.build_vocab(train_corpus)"
   ]
  },
  {
   "cell_type": "code",
   "execution_count": 66,
   "metadata": {},
   "outputs": [
    {
     "name": "stdout",
     "output_type": "stream",
     "text": [
      "Word 'inflation' appeared 521 times in the training corpus.\n"
     ]
    }
   ],
   "source": [
    "# Let's check how many times the word inflation apears on the labeled news dataset\n",
    "print(f\"Word 'inflation' appeared {model.wv.get_vecattr('inflation', 'count')} times in the training corpus.\")"
   ]
  },
  {
   "cell_type": "code",
   "execution_count": 67,
   "metadata": {},
   "outputs": [
    {
     "name": "stdout",
     "output_type": "stream",
     "text": [
      "Word 'transitory' appeared 4 times in the training corpus.\n"
     ]
    }
   ],
   "source": [
    "# Let's check how many times the word transitory apears on the labeled news dataset\n",
    "print(f\"Word 'transitory' appeared {model.wv.get_vecattr('transitory', 'count')} times in the training corpus.\")"
   ]
  },
  {
   "cell_type": "code",
   "execution_count": 68,
   "metadata": {},
   "outputs": [
    {
     "name": "stdout",
     "output_type": "stream",
     "text": [
      "--- 0.8068060874938965 seconds ---\n"
     ]
    }
   ],
   "source": [
    "# This will load the gensim model\n",
    "start_time = time.time()\n",
    "model.train(train_corpus, total_examples=model.corpus_count, epochs=model.epochs)\n",
    "print(\"--- %s seconds ---\" % (time.time() - start_time))"
   ]
  },
  {
   "cell_type": "code",
   "execution_count": 69,
   "metadata": {},
   "outputs": [
    {
     "name": "stdout",
     "output_type": "stream",
     "text": [
      "[-0.21959691 -0.16523121  0.03144318  0.31085932  0.1098144   0.04731079\n",
      "  0.15995571 -0.00967111 -0.21459682  0.30741775 -0.20229432  0.16568355\n",
      "  0.10838725  0.08592039 -0.16812086 -0.2548607   0.11954755  0.39605606\n",
      " -0.02387948  0.10477146  0.1258252   0.13008118 -0.22675449  0.10589869\n",
      " -0.0702756  -0.23844709 -0.3180193  -0.21744446 -0.16108482 -0.43238148\n",
      "  0.12040122  0.11571792  0.11666974  0.09695289 -0.04072885  0.20876156\n",
      "  0.02342697 -0.18610595  0.20022662  0.06176469  0.08886606 -0.15506977\n",
      "  0.08286011 -0.09290649  0.16938923  0.21108295  0.02639672 -0.2749316\n",
      "  0.11128721 -0.25525537]\n"
     ]
    }
   ],
   "source": [
    "# Let's check the document embedings\n",
    "vector = model.infer_vector(\"The unemployment rate is too low and this fuels inflation\".split())\n",
    "print(vector)"
   ]
  },
  {
   "cell_type": "markdown",
   "metadata": {},
   "source": [
    "**Assessing the Model**\n",
    "To assess our new model, we’ll first infer new vectors for each document of the training corpus, compare the inferred vectors with the training corpus, and then returning the rank of the document based on self-similarity. Basically, we’re pretending as if the training corpus is some new unseen data and then seeing how they compare with the trained model. The expectation is that we’ve likely overfit our model (i.e., all of the ranks will be less than 2) and so we should be able to find similar documents very easily. Additionally, we’ll keep track of the second ranks for a comparison of less similar documents."
   ]
  },
  {
   "cell_type": "code",
   "execution_count": 70,
   "metadata": {},
   "outputs": [],
   "source": [
    "ranks = []\n",
    "second_ranks = []\n",
    "for doc_id in range(len(train_corpus)):\n",
    "    inferred_vector = model.infer_vector(train_corpus[doc_id].words)\n",
    "    sims = model.dv.most_similar([inferred_vector], topn=len(model.dv))\n",
    "    rank = [docid for docid, sim in sims].index(doc_id)\n",
    "    ranks.append(rank)\n",
    "\n",
    "    second_ranks.append(sims[1])"
   ]
  },
  {
   "cell_type": "code",
   "execution_count": 71,
   "metadata": {},
   "outputs": [
    {
     "data": {
      "text/plain": [
       "[(39, 0.5956165194511414),\n",
       " (7, 0.6362031102180481),\n",
       " (17, 0.5592270493507385),\n",
       " (3, 0.9748966693878174),\n",
       " (13, 0.6650760173797607)]"
      ]
     },
     "execution_count": 71,
     "metadata": {},
     "output_type": "execute_result"
    }
   ],
   "source": [
    "second_ranks[:5]"
   ]
  },
  {
   "cell_type": "code",
   "execution_count": 72,
   "metadata": {},
   "outputs": [
    {
     "data": {
      "text/plain": [
       "[0, 0, 0, 1, 0]"
      ]
     },
     "execution_count": 72,
     "metadata": {},
     "output_type": "execute_result"
    }
   ],
   "source": [
    "ranks[:5]"
   ]
  },
  {
   "cell_type": "code",
   "execution_count": 73,
   "metadata": {},
   "outputs": [
    {
     "name": "stdout",
     "output_type": "stream",
     "text": [
      "Counter({0: 39, 1: 1})\n"
     ]
    }
   ],
   "source": [
    "counter = collections.Counter(ranks)\n",
    "print(counter)"
   ]
  },
  {
   "cell_type": "markdown",
   "metadata": {},
   "source": [
    "Basically, greater than 100% of the inferred documents are found to be most similar to itself and about 0% of the time it is mistakenly most similar to another document. Checking the inferred-vector against a training-vector is a sort of ‘sanity check’ as to whether the model is behaving in a usefully consistent manner, though not a real ‘accuracy’ value."
   ]
  },
  {
   "cell_type": "code",
   "execution_count": 74,
   "metadata": {},
   "outputs": [
    {
     "name": "stdout",
     "output_type": "stream",
     "text": [
      "Document (39): «low inflation is indeed the problem of this era thus said john williams president of the federalreserve bank of new york in late espousing the dominant view at the time fast forward to the present and the problem is the exact opposite just about every country in the world has grappled with soaring prices in the situation is all but certain to improve in the coming year but at severe cost to economic growth what made so unusual was the breadth of price pressures the global rate of inflation will finish the year at roughly for many developing countries high inflation is recurrent challenge but the last time that inflation was so elevated in rich countries was the early in america consumer prices are on track to have risen by about in the highest in four decades in germany the rate will be closer to its first bout of doubledigit inflation since the common factors driving up inflation everywhere were soaring fuel and food costs prices for many consumer goods were already trending up at the start of because of covid lingering impact on supply chains russia invasion of ukraine in february proved even more disruptive the cost of oil climbed by third as western countries slapped sanctions on russia major crude producer food prices also surgedpushed up by fertiliser and transportation costs as well as by russia blockades of grain exports from ukraine major wheat producer in economic terms this amounted to classic supply shock the sudden rise in prices for key commodities quickly filtered into daily life for the world citizens in europe long reliant on russian gas millions will struggle to afford heating this winter across all regions food and fuel accounted on average for more than half of inflation in see chart were inflation just supplyside phenomenon it would have been painful enough but the most worrying development for central bankers was that pressures seeped into core components of price indices that is goods and services other than volatile food and energy the rise in core prices was an indication that inflation was gathering momentum all of its own that in turn pointed to causes beyond the oil shock many countries now have ultratight labour markets partly result of wave of early retirements during covid as result companies are paying higher wages to attract workers adding to inflationary momentum in america where the rise in core inflation was particularly steep an additional culprit was excessive stimulus by both the government and the fed at the height of covid for much of that translated into overheated demand with real personal spending higher than the prepandemic trend tellingly the big economy with the lowest inflation was china its zerocovid strategy pushed spending far below the prepandemic trend almost everywhere there was anxiety that rising prices would reset people inflation expectations leading them to demand higher pay known as wageprice spiral such dynamic would make inflation far harder to eradicate the mere threat of the dynamic was sufficient to stir central banks to action the fed was the most aggressive raising interest rates from floor of zero in march to more than today its sharpest dose of monetary tightening in four decades central banks throughout the rich world from stockholm to sydney followed in its wake one way of looking at inflation prospects for is as duel between rebounding supply and falling demand promisingly some of the factors that fuelled inflation early in have started to fade prices of consumer goods have declined as supply chains have returned to normal the cost of oil has fallen back to its level year ago in part thanks to recovery in production tighter monetary policy works by choking off demand and that is starting to happen too the most ratesensitive sectors are suffering the most sudden chill has settled over oncesizzling property markets with transactions drying up if the recovery in supply including crucially of willing workers is big and fast enough central banks may be able to stop tightening before provoking deep recession but at this point it seems more likely that they will exact real toll on the global economy in fears of inflation may give way to concerns about unemployment»\n",
      "\n",
      "SIMILAR/DISSIMILAR DOCS PER MODEL Doc2Vec<dm/m,d50,n5,w5,mc2,s0.001,t3>:\n",
      "\n",
      "MOST (39, 0.9342009425163269): «low inflation is indeed the problem of this era thus said john williams president of the federalreserve bank of new york in late espousing the dominant view at the time fast forward to the present and the problem is the exact opposite just about every country in the world has grappled with soaring prices in the situation is all but certain to improve in the coming year but at severe cost to economic growth what made so unusual was the breadth of price pressures the global rate of inflation will finish the year at roughly for many developing countries high inflation is recurrent challenge but the last time that inflation was so elevated in rich countries was the early in america consumer prices are on track to have risen by about in the highest in four decades in germany the rate will be closer to its first bout of doubledigit inflation since the common factors driving up inflation everywhere were soaring fuel and food costs prices for many consumer goods were already trending up at the start of because of covid lingering impact on supply chains russia invasion of ukraine in february proved even more disruptive the cost of oil climbed by third as western countries slapped sanctions on russia major crude producer food prices also surgedpushed up by fertiliser and transportation costs as well as by russia blockades of grain exports from ukraine major wheat producer in economic terms this amounted to classic supply shock the sudden rise in prices for key commodities quickly filtered into daily life for the world citizens in europe long reliant on russian gas millions will struggle to afford heating this winter across all regions food and fuel accounted on average for more than half of inflation in see chart were inflation just supplyside phenomenon it would have been painful enough but the most worrying development for central bankers was that pressures seeped into core components of price indices that is goods and services other than volatile food and energy the rise in core prices was an indication that inflation was gathering momentum all of its own that in turn pointed to causes beyond the oil shock many countries now have ultratight labour markets partly result of wave of early retirements during covid as result companies are paying higher wages to attract workers adding to inflationary momentum in america where the rise in core inflation was particularly steep an additional culprit was excessive stimulus by both the government and the fed at the height of covid for much of that translated into overheated demand with real personal spending higher than the prepandemic trend tellingly the big economy with the lowest inflation was china its zerocovid strategy pushed spending far below the prepandemic trend almost everywhere there was anxiety that rising prices would reset people inflation expectations leading them to demand higher pay known as wageprice spiral such dynamic would make inflation far harder to eradicate the mere threat of the dynamic was sufficient to stir central banks to action the fed was the most aggressive raising interest rates from floor of zero in march to more than today its sharpest dose of monetary tightening in four decades central banks throughout the rich world from stockholm to sydney followed in its wake one way of looking at inflation prospects for is as duel between rebounding supply and falling demand promisingly some of the factors that fuelled inflation early in have started to fade prices of consumer goods have declined as supply chains have returned to normal the cost of oil has fallen back to its level year ago in part thanks to recovery in production tighter monetary policy works by choking off demand and that is starting to happen too the most ratesensitive sectors are suffering the most sudden chill has settled over oncesizzling property markets with transactions drying up if the recovery in supply including crucially of willing workers is big and fast enough central banks may be able to stop tightening before provoking deep recession but at this point it seems more likely that they will exact real toll on the global economy in fears of inflation may give way to concerns about unemployment»\n",
      "\n",
      "SECOND-MOST (0, 0.6675317287445068): «before the pandemic the idea of an annual rate of inflation of in the euro zone would have seemed like horror story in november it was good news inflation had been the month before similar surprise came from america as inflation falls so does the expected pace of interestrate increases on december th and th the federal reserve european central bank and bank of england will each probably raise rates by half percentage point deceleration from the rises that have recently prevailed globally inflation has begun to decline primarily because energy prices have eased since the summer and because supply chains long gummed up by the pandemic are operating more smoothly yet inflation remains very long way from central banks targets there are three reasons to think ratesetters will struggle to hit their goals soon the first is continued scarcity of workers while the news on prices has been good the latest wage data are worrying in america average hourly earnings had shown encouraging signs of softening since august but updated figures released on december nd upended the picture showing annualised growth of over the past three months roughly in line with other surveys since the data came out stock markets in america have fallen in expectation of prolonged interestrate rises in britain wages are growing at similar rate wave of strikes may prompt still bigger increases the euro zone labour markets though not as sizzling are hot enough to make policymakers worry that energy inflation could affect the rest of the economy as workers bargain for higher wages to off set rising living costs the second problem is fiscal policy it would help central banks to cool labour markets if governments shrank their budget deficits yet america recent inflation reduction act makes only minimal dent in government borrowing and the biden administration is trying to forgive swathes of student debt europe is splurging on energy subsidies despite warnings from the imf and others that it is unwise to stimulate economies which lack spare productive capacity mistake america made in when president joe biden american rescue plan overheated the economy if the eu retains its measures throughout the cost net of taxes raised to fund the handouts will reach nearly of gdp see chart in aggregate britain much advertised belttightening will not begin until thanks to its costly energyprice cap nearly twothirds of the eu energy spending is on controlling prices for everyone which is expensive and discourages energy saving only fifth comes in the form of targeted redistribution to the needy the approach recommended by the likes of the imf even germany which has capped prices only up to of household previous usage is still borrowing to fund the scheme meaning that it will deliver an economic stimulus the final danger is that energy inflation returns in this year europe economies have benefited from weak competition for scarce supplies of global liquefied natural gas lng in part because china economyhas been hampered by its zerocovid policy but china has begun to loosen its pandemic controls if its economy reopens and rebounds lng prices could surge in central bankers battle with inflation has reached an inflection point but it will not be won for long time»\n",
      "\n",
      "MEDIAN (19, 0.33001968264579773): «this is not the end of inflation it is not even the beginning of the end but it is perhaps the end of the beginning on wednesday the bureau of labor statistics reported something we havent seen since the depths of the pandemic recession month without inflation that is the average price of the goods and services consumers buy was no higher actually slightly lower in july than it was in june before get to what the latest inflation numbers mean two notes on reactions to the report first there is absolutely no reason to question the numbers there were many advance indications that this report and probably the next few reports would show sharp drop in inflation in fact wrote about that last week its not just falling gasoline prices business surveys point to declining inflation and supply chain problems are easing zero was somewhat lower number than most observers expected but not wildly so second the enraged reaction of republicans to the report came as something of surprise at least to me not that it happened but the form their outrage took expected them to accuse the biden administration of cooking the books instead most of the flailing seemed to involve failure to understand the difference between monthly andannual numbers when president biden declared accurately that we had zero inflation in july many on the right accused him of lying because prices in july were percent higher than they were in july do they really not understand the difference to be fair sloppy business reporting may have contributed to their confusion saw many headlines to the effect that inflation was percent in july but the more fundamental issue surely is that its difficult to get people to understand something when their sloganeering depends on their not understanding it ok but what about the substantive implications of the big zero unfortunately one month of zero inflation doesnt mean that the inflation problem is solved economists have long known that you get much better read on underlying inflation if you strip out highly volatile prices normally food and energy but there are variety of measures of core inflation and all of them are still unacceptably high thats clear indication that the economy is running too hot the federal reserve has been raising interest rates to cool things down and nothing in wednesdays report should or will induce the fed to change course the fed might however take some comfort from different report released monday the new york fedsmonthly survey of consumer expectations which showed substantial declines in short medium and expectations ever since prices took off last year fed officials have been concerned that inflation might become entrenched what they mean is that businesses and consumers might come to believe that large price increases are the new normal making inflation and that getting inflation back down would require putting the economy into severe extended slump thats what most economists think happened in the and its not an experience anyone wants to repeat the good news is that there doesnt seem to be any entrenching going on public expectations of future inflation are falling not rising financial markets also seem to anticipate much lower inflation than weve seen over the pastyear despite this good news the fed will surely keep raising rates until it sees clear evidence that underlying inflation is coming down but it has some breathing room to be less aggressive than it might otherwise have been waiting to see how the economic situation develops overall falling inflation probably wont have much effect on economic policy it might however have big political implications the truth although republicans go feral when you point it out is that joe biden has presided over huge jobs boom yet he has gotten no credit for that boom possibly in part because many americans dont know about it but largely because voters are focused on inflation especially the fact that prices have risen faster than wages reducing families purchasing power now at least that part of the story has gone into reverse wages are still rising fast which is actually one reason to believe that underlying inflation remains high but for now at least inflation has slowed so workers will be seeing significant real wage gains indeed average real wages rose half percentage point in july alone hence gop outrage over accurate reporting on julys inflation numbers republicans had been counting on high inflation and high gas prices in particular to deliver big gains for their party in the midterm elections suddenly however the economic facts have liberal bias gas prices are plunging inflation is down and realwages are up will these facts make difference in november have no idea but the current hysteria on the right shows that republicans are worried that they might»\n",
      "\n",
      "LEAST (35, 0.009056626819074154): «the federal reserve would never get medal in archery in the months since the fed publicly adopted target of percent for annual inflation in january it has undershot in john williams president of the federal reserve bank of san francisco believes there way to help the institution improve its aim the fed would still try to keep prices rising at percent year but if it fell short one year it wouldn just try harder to hit percent the next year as it does now instead it would try to jack inflation above percent temporarily to get back on track the fed would be like the driver of car who makes up for getting stuck in traffic by speeding up or slows down when she realizes she gotten ahead of her intended pace williams laid out the justification for what he calls flexible price level targeting in speech in new york on may to the shadow open market committee an independent group of economists that comments on federal reserve policy in an interview on may he explained why he thinks now is the right time for an idea he concedes has been around for while if pricelevel targeting caught on business people and consumers could better predict how high prices would be in or even years that hard to do in the current era of sluggish growth in which both interest rates and inflation have tended to come in lower than expected arguments for pricelevel targeting are just much more powerful now than years ago williams says another reason the time is ripe he says is that the economy is close to full employment so the fed can afford to change its methods says williams we re not right in the middle of battle williams isn advocating that the fed try to make up for years of below target inflation rates to do that prices would have to rise percent in one swoop instead he advises starting fresh in his may speech he argued that there nothing inherently hawkish or dovish about price level targeting true in recent years it would have led to more dovish policy ie lower rates but if practiced in the it would have led to hawkish policy ie higher rates that cooled economic growth to extinguish inflation williams said williams won say whether any of his fellow members of the ratesetting federal open market committee have been swayed by his argument but he hopeful central banking is one of those areas of policy where ideas matter his paper was wellreceived by the shadow open market committee which tends to be hawkish says charles calomiris an economist at columbia business school who is member calomiris advocates increasing rates more quickly than williams does but targeting the price level doesn ruffle the feathers of this hawk the idea of keeping track of your cumulative hits or misses rather than your momenttomoment hits or misses has lot of attraction»\n",
      "\n"
     ]
    }
   ],
   "source": [
    "print('Document ({}): «{}»\\n'.format(doc_id, ' '.join(train_corpus[doc_id].words)))\n",
    "print(u'SIMILAR/DISSIMILAR DOCS PER MODEL %s:\\n' % model)\n",
    "for label, index in [('MOST', 0), ('SECOND-MOST', 1), ('MEDIAN', len(sims)//2), ('LEAST', len(sims) - 1)]:\n",
    "    print(u'%s %s: «%s»\\n' % (label, sims[index], ' '.join(train_corpus[sims[index][0]].words)))"
   ]
  },
  {
   "cell_type": "markdown",
   "metadata": {},
   "source": [
    "We can see that document 39 is most similar to itself"
   ]
  },
  {
   "cell_type": "code",
   "execution_count": 75,
   "metadata": {},
   "outputs": [
    {
     "data": {
      "text/plain": [
       "'Inflation will fade away'"
      ]
     },
     "execution_count": 75,
     "metadata": {},
     "output_type": "execute_result"
    }
   ],
   "source": [
    "# The label for document 39 is:\n",
    "y_train[39]"
   ]
  },
  {
   "cell_type": "code",
   "execution_count": 76,
   "metadata": {},
   "outputs": [
    {
     "data": {
      "text/plain": [
       "'Inflation will fade away'"
      ]
     },
     "execution_count": 76,
     "metadata": {},
     "output_type": "execute_result"
    }
   ],
   "source": [
    "# The label for the second most similar document is:\n",
    "y_train[12]"
   ]
  },
  {
   "cell_type": "code",
   "execution_count": 77,
   "metadata": {},
   "outputs": [
    {
     "data": {
      "text/plain": [
       "'Inflation will fade away'"
      ]
     },
     "execution_count": 77,
     "metadata": {},
     "output_type": "execute_result"
    }
   ],
   "source": [
    "# The label for the least similar document is\n",
    "y_train[4]"
   ]
  },
  {
   "cell_type": "code",
   "execution_count": 78,
   "metadata": {},
   "outputs": [
    {
     "name": "stdout",
     "output_type": "stream",
     "text": [
      "labeledArticle(articleID=11, label='Inflation will fade away', body='low inflation is indeed the problem of this era thus said john williams president of the federalreserve bank of new york in late 2019 espousing the dominant view at the time fast forward to the present and the problem is the exact opposite just about every country in the world has grappled with soaring prices in 2022 the situation is all but certain to improve in the coming year but at a severe cost to economic growth  what made 2022 so unusual was the breadth of price pressures the global rate of inflation will finish the year at roughly 9 for many developing countries high inflation is a recurrent challenge but the last time that inflation was so elevated in rich countries was the early 1980s in america consumer prices are on track to have risen by about 7 in 2022 the highest in four decades in germany the rate will be closer to 10 its first bout of doubledigit inflation since 1951  the common factors driving up inflation everywhere were soaring fuel and food costs prices for many consumer goods were already trending up at the start of 2022 because of covid19’s lingering impact on supply chains russia’s invasion of ukraine in february proved even more disruptive the cost of oil climbed by a third as western countries slapped sanctions on russia a major crude producer food prices also surgedpushed up by fertiliser and transportation costs as well as by russia’s blockades of grain exports from  ukraine a major wheat producer in economic terms this amounted to a classic supply shock the sudden rise in prices for key commodities quickly filtered into daily life for the world’s citizens in europe long reliant on russian gas millions will struggle to afford heating this winter across all regions food and fuel accounted on average for more than half of inflation in 2022 see chart  were inflation just a supplyside phenomenon it would have been painful enough but the most worrying development for central bankers was that pressures seeped into “core” components of price indices—that is goods and services other than volatile food and energy the rise in core prices was an indication that inflation was gathering momentum all of its own that in turn pointed to causes beyond the oil shock many countries now have ultratight labour markets partly a result of a wave of early retirements during covid as a result companies are paying higher wages to attract workers adding to inflationary momentum in america where the rise in core inflation was particularly steep an additional culprit was excessive stimulus—by both the government and the fed—at the height of covid for much of 2022 that translated into overheated demand with real personal spending higher than the prepandemic trend tellingly the big economy with the lowest inflation was china its “zerocovid” strategy pushed spending far below the prepandemic trend  almost everywhere there was anxiety that rising prices would reset people’s inflation expectations leading them to demand higher pay known as a wageprice spiral such a dynamic would make inflation far harder to eradicate the mere threat of the dynamic was sufficient to stir central banks to action the fed was the most aggressive raising interest rates from a floor of zero in march to more than 4 today its sharpest dose of monetary tightening in four decades central banks throughout the rich world from stockholm to sydney followed in its wake  one way of looking at inflation prospects for 2023 is as a duel between rebounding supply and falling demand promisingly some of the factors that fuelled inflation early in 2022 have started to fade prices of consumer goods have declined as supply chains have returned to normal the cost of oil has fallen back to its level a year ago in part thanks to a recovery in production tighter monetary policy works by choking off demand and that is starting to happen too the most ratesensitive sectors are suffering the most a sudden chill has settled over oncesizzling property markets with transactions drying up if the recovery in supply —including crucially of willing workers— is big and fast enough central banks may be able to stop tightening before provoking a deep recession but at this point it seems more likely that they will exact a real toll on the global economy in 2023 fears of inflation may give way to concerns about unemployment')\n"
     ]
    }
   ],
   "source": [
    "# Checking the labels still are alingned with the labels\n",
    "sampleBody = X_train[39]\n",
    "for i in range(len(articlesSample)):\n",
    "    if articlesSample[i][2] == sampleBody:\n",
    "        print(articlesSample[i])"
   ]
  },
  {
   "cell_type": "code",
   "execution_count": 79,
   "metadata": {},
   "outputs": [
    {
     "name": "stdout",
     "output_type": "stream",
     "text": [
      "labeledArticle(articleID=35, label='Inflation will fade away', body='the personal consumption expenditures index showed prices increased 55 percent last month as consumer spending pulled back  the federal reserves preferred inflation measure is showing signs of moderating after months of rapid price increases and a closely watched gauge of consumer spending slowed last month a sign that the economy may have less steam as it heads into 2023  the personal consumption expenditures price index climbed 55 percent in november from a year earlier a slowdown from 61 percent in the previous reading stripped of food and fuel costs which jump around a socalled core price measure climbed 47 percent down from 5 percent in the previous reading both figures were roughly in line with economist forecasts  although inflation is slowing it still has a long way to go to return to a more normal pace the fed has raised interest rates at the fastest clip in decades this year as it has tried to temper consumer and business demand hoping to force price increases to moderate those rate increases are now trickling through the economy slowing the housing market cooling demand for new business investments and potentially weakening the labor market  but it remains to be seen just how much the feds policy changes will slow down the overall economy so far spending and hiring have both been relatively resilient  which has left policymakers and economists alike closely watching each new data report like the one released friday for any hint at how consumers are faring  reducing inflation is likely to require a sustained period of belowtrend growth and some softening of labor market conditions jerome h powell the fed chair said at his final news conference of the year  the economic figures on friday showed that consumer spending slowed in november climbing just 01 percent from october less than the 02 percent economists had forecast but spending in october was revised up slightly and posted a robust 09 percent increase  evidence that it is still hard to get a handle on the trajectory for consumption  those figures do not account for inflation adjusted for price increases spending did not grow at all  and under the surface the data pointed to a continued shift in what americans are buying spending on services continues to grow even as people buy fewer goods like furniture and clothing  even if they are not yet conclusive signs of cooling consumer demand are likely to be welcome news for officials at the fed the economy slowed notably in 2022 from its rapid expansion in 2021 but policymakers at the fed believe that it needs to remain weaker than usual through next year to get inflation back down to the 2 percent that they shoot for on average over time  thats because rapid inflation  which began as pandemicinduced supply shortages collided with strong consumer demand  has become more stubborn over time it now spans a variety of service categories from dentist visits to meals out at restaurants those sorts of price gains tend to be fueled by increasing wages and can take time to stamp out  the lowhanging fruit is working out energy components and supply chain issues are coming off priya misra head of global rates strategy at td securities said of the recent cooling in inflation but services inflation she said is likely to be a more intractable problem  they still talk about inflation as public enemy no 1 but the narrative around inflation has moved to wages and the labor market ms misra said  the fed is hoping that weighing down the broader economy will help to bring demand for workers back into balance with the supply of available employees as conditions moderate policymakers think pay gains will slow and inflation will be able to return fully to normal paving the way for more sustainable growth  looking ahead we expect a deceleration in household spending as the fed hikes rates further in 2023 rubeela farooqi chief us economist at high frequency economics wrote in response to the data released on friday  but nailing that landing is sure to be difficult officials will have to guess just how high interest rates need to go and how long they need to stay there  to slow the economy and price increases sufficiently that is an inexact science and there is a risk that officials will cause a painful recession as they try to slow down the economy  as a result fed officials this month began to move rates at a more gradual pace and have hinted that they couldstop raising them altogether at some point in 2023 that will give them time to see how their policy changes so far are playing through the economy  its now not so important how fast we go its far more important to think what is the ultimate level mr powell said at his latest news conference and then its  at a certain point the question will become how long do we remain restrictive  among other challenges it is tough to guess how american consumers who drive about 70 percent of the economy will behave next year they are eking out income gains even counting for inflation in recent months and they are still sitting on savings amassed during the pandemic that could help to keep them shopping into 2023  but at the same time many families have been drawing down their extra funds and the nations savings rate how much people tuck away out of their disposable income  has dipped to low levels it is unclear how long people will be willing to spend out of their nest eggs before they begin to meaningfully pull back  the white house for its part has been welcoming any sign that the economy remains resilient at price increases fade  there will be more ups and downs in the year ahead but we are making progress building an economy from the bottom up and the middle out president biden said in a release after the report on friday im optimistic for theyear ahead  but as the feds policy changes play out many economists expect that the economy will lose momentum and eventually contract next year  analysts at capital economics continue to expect a mild recession next year andrew hunter the firms senior us economist wrote in a research note on friday he noted that consumption was pulling back and that business investment was likely to weaken more markedly next year as the full impact of the feds aggressive tightening this year feeds through')\n"
     ]
    }
   ],
   "source": [
    "sampleBody = X_train[12]\n",
    "for i in range(len(articlesSample)):\n",
    "    if articlesSample[i][2] == sampleBody:\n",
    "        print(articlesSample[i])"
   ]
  },
  {
   "cell_type": "code",
   "execution_count": 80,
   "metadata": {},
   "outputs": [],
   "source": [
    "# Infer Doc2Vec embedding from first article in pre-processed test_corpus\n",
    "# X_test[0] == test_corpus[0]: Yes\n",
    "inferredVect = model.infer_vector(test_corpus[0])"
   ]
  },
  {
   "cell_type": "code",
   "execution_count": 81,
   "metadata": {},
   "outputs": [],
   "source": [
    "# Orderer list of articles from most similar to least similar in the train_corpus\n",
    "sims = model.dv.most_similar([inferredVect], topn=len(model.dv))"
   ]
  },
  {
   "cell_type": "code",
   "execution_count": 82,
   "metadata": {},
   "outputs": [
    {
     "name": "stdout",
     "output_type": "stream",
     "text": [
      "Test Document (0): «stubbornly high inflation is finally easing as supply chain disruptions fade and interest rate sat year highs put the brakes on demand now federal reserve officials have voiced unease that prices could reaccelerate because labor markets are so tight at issue is what the right way to forecast inflation bottomup analysis of recent readings on prices and wages that puts more weight on pandemicdriven idiosyncrasies or traditional topdown analysis of how far the economy is operating above or below its normal capacity some inside the fed including its influential staff put more weight on the latter which would argue for tighter policy for longer others prefer the former which could argue for milder approach the fed is likely to raise interest rates on wednesday by quarter percentage point to range between and slowing increases for the second consecutive meeting that would give officials more time to study the effects of earlier rate rises they are likely to debate how long to continue raising rates and how long to hold them at that higher level the work horse models that fed and privatesector economists use to predict inflation compare the country total demand for goods and services with their total supply as represented by the output gap the difference between actual gross domestic product and potential gdp based on available capital and labor they also lean on the phillips curve which predicts that wages and prices rise faster when unemployment falls below some natural sustainable level estimating these variables is difficult even in normal times let alone after pandemic and amid the war in ukraine the natural unemployment rate can only be inferred from the behavior of prices and wages decade ago fed officials put it between and and then revised it lower to around as actual unemployment fell below without much acceleration in wages their projections for interest rates and inflation in december suggest they think the natural rate has temporarily shifted up to around said aneta markowska chief economist at jefferies llc with unemployment now at that suggests the labor market is too tight and likely to keep wage pressure high minutes of last month fed meeting show the central bank staff economists think the natural rate might decline slowly because jobmatching will remain inefficient suggesting price pressures could persist for longer than previously thought the staff also revised down estimates of potential output because of tepid labor force growth leaving actual output even further above its sustainable level staff saw this output gap persisting until the end of year longer than they projected just few weeks earlier it was significant move said riccardo trezzi former fed economist who runs an firm in geneva the staff is telling the committee you cannot give upnow because if you do we will remain significantly above inflation in the medium term still fed officials are wary of pinning too much on output gaps and phillips curves since an overheated labor market is likely to show up first in wages many officials see those as better proxy of underlying inflation pressure wages reveal what employers think they can recover via prices or productivity and what workers expect given their own cost of living if wages continue to grow at their recent rate of to that would keep inflation well above the fed inflation goal assuming productivity grows around to year this is why fed policy makers last month revised higher their projections for inflation this year higher wage growth boosts aggregate incomes providing spending power that can sustain higher prices officials worry tight labor markets could allow paychecks to rise in lockstep with prices as occurred during the since last month meeting there has been more evidence that labor demand may have softened including declines in temporary hiring and hours worked if wage growth slipped to getting inflation to would be easier boost in the supply of workers would help allay wage worries jonathan pingle chief useconomist at ubs believes labor shortages could ease as immigration rebounds last month the census bureau published estimates showing net immigration for the months through june topped million for the first time since fed officials closely watch the employmentcost index because it is the most comprehensive measure of wage growth the fourthquarter figure is to be released tuesday inflation as measured by the month change in the price index of expenditures excluding food and energy fell to last month from in september though still above the fed goal it moderated in the last three months to an annualized inflation is slowing because prices of goods are falling large increases in housing costs have slowed but haven filtered through to official price gauges yet as result fed chair jerome powell and several colleagues shifted attention recently toward narrower subset of laborintensive services by excluding prices for food energy shelter and goods mr powell has said prices in this category which rose in december from year earlier offer the best gauge of higher wage costs passing through to consumer prices in speech this month fed vice chair lael brainard offered more optimistic reassessment of that view highlighting reasons the links between wages and prices for nonhousing service prices might be weaker she pointed to the prospect for price increases to moderate if they reflect the ripple effects of recent global dislocations that are now reversing as opposed to the growth in wages prices of restaurant meals car insurance and airfares for example could ease if they have been primarily caused by the passthrough of higher food prices car prices and fuel prices respectively if wage pressures are moderating on their own it becomes harder to tell story where you re going to be really worried about wageprice spiral developing said mr pingle of ubs john roberts former fed economist said he sees some scope for declining nonwage costs to ease pressure on services inflation but in the medium term have to lean on powell argument here he said if wage growth stays as high as it has been they will still have an inflation problem»\n",
      "\n",
      "SIMILAR/DISSIMILAR DOCS PER MODEL Doc2Vec<dm/m,d50,n5,w5,mc2,s0.001,t3>:\n",
      "\n",
      "MOST (31, 0.8150468468666077): «new white house wage figures suggest laborcost pressures are easing in the parts of the economy where the federal reserve is most concerned about inflation fed chair jerome powell said recently he is analyzing inflation pressures by focusing on prices for services other than housing which includes things such as haircuts dining out and visits to the dentist that excludes prices for goods food energy and housing the categories most distorted by the pandemic some economists have dubbed this narrower measure supercore to distinguish it from core inflation which excludes just food and energy in december annual supercore inflation was running at about below overall inflation of but still double the fed target that is according to the price index of expenditures the inflation gauge that the fed prefers to the betterknown consumerprice index mr powell has said wages are the main driver of this underlying inflation measure because labor is usually the biggest cost for these services he is worried that the unbalanced labor market with the demand for workers well above the supply will keep driving pay higher keeping inflation too high some surmise that the tight labor market may be playing meaningful role in this part of inflation the white house council of economic advisers wrote in blog post published wednesday but the wage data published by the labor department aren suited to tracking labor costs in just these sectors the blog post said its monthly hourly wage figures are distorted by shifts in hiring between low and highwage sectors and its quarterly employmentcost index is too broad to remedy that gap cea economists constructed wage series tracking only wages that go into supercore prices by this measure supercore wage growth for non management workers has ebbed significantly in the past year from on month basis last march to in january the cea calculates that is much steeper than the drop in wage growth for all privatesector workers from to in the same period and for non management workers from to the drop is even sharper looking at shorter periods according to the cea measure such wages were growing at annualized in the three months ended october by january growth had slowed to below that for all privatesector workers at and private production workers at in the same period it suggests wage pressure was most intense through as the economy reopened from covidrelated lockdowns and when federal and monetary stimulus were at their maximum as demand patterns have normalized people returned to work and stimulus faded wage pressures have ebbed despite falling unemployment and low vacancies in keeping with white house policy the cea didn comment on the implications of its work for fed policy nonetheless the deceleration it identifies could be significant for the path for interest rates the central bank is seeking to slow economic growth to restrain inflation which has eased recently after hitting year high last year fed officials have raised their benchmark federalfunds rate by percentage points over the past months the fastest pace since the according to projections released after their policy meeting in december most fed officials thought then they would raise the rate to this year which would imply rate increases at their next two meetings in march and may we think we re going to have to do further rate increases and we think we ll have to hold policy at restrictive level for some time mr powell said tuesday during moderated discussion before the economic club of washington dc wage growth of is only modestly above what the fed considers compatible with inflation that raises the prospect that inflation could eventually slow to acceptable levels without the fed having to raise rates until unemployment rises sharply still the new data should be interpreted cautiously the index excludes many sectors where labor costs will ultimately figure in overall inflation wage data is also frequently revised and the trend can change direction from one month to the next cea economist ernie tedeschi said in an interview the research didn take view on whether labor costs were the main driver of inflation only that the link should be studied using wage measure that corresponds to the prices of interest still cea said in its blog post this new measure does better job of predicting non housing services inflation than other wage measures its series weights wages according to sector contribution to non housing services which comprise roughly third of gross domestic product thus hospitals food services doctors offices and nursing homes carry an especially high weight some service sectors such as pipeline and railway transport carry no weight because those industries primarily deliver oil gas and goods none of which appear in supercore inflation manufacturing represents about of private wages but just of this index based on the contribution of manufactured goods to retailer profit margins»\n",
      "\n",
      "MEDIAN (21, 0.3986176550388336): «investors are grappling anew with whether improving economic data will finally translate to higher inflation after month long decline in governmentbond prices carried the yield on the year us treasury note tuesday to close above for the first time since march for years bond buyers and economists have debated whether tentative signs of rising prices will take hold sparking sporadic moves in the bond market so far inflation has remained stubbornly low even as the economy rebounds still many investors believe inflation is bound to pick up if the labor market continues to improve and some market indicators suggest inflation expectations have been climbing in recent weeks reflecting better economic data rising energy prices and the passage of sweeping tax cuts which many think could provide further boost to the economy rising inflation is major threat to government bond investors because it chips away at the purchasing power of their fixed interest payments the year treasury yield is watched particularly closely because it is bedrock of global finance influencing borrowing rates for consumers businesses and state and local governments ultralow treasury yields in recent years have helped boost stocks by making them look more attractive to yieldseeking investors while spurring record bond issuance by us companies there lot of optimism globally for the prospects for growth and inflation said brendan murphy standish mellon senior portfolio manager economies are growing in asynchronous fashion they re also growing above trend as prices of treasurys have fallen the yield has increased the yield on the benchmark year treasury note settled at tuesday compared with monday the surge above marks the latest milestone in the year yield recent rise after it spent much of stuck in range between and as investors grew confident that inflation would remain muted analysts attributed some of tuesday selling to an announcement from the bank of japan that it would trim purchases of longterm japanese government bonds move that bolstered investors concerns that central banks around the world are preparing to step away from postcrisis policies that have kept yields near historic lows the boj decision which some analysts described as minor on its own is significant because foreign investors hold of outstanding treasurys and because analysts see the bond purchases by the european central bank and the boj as factors driving overseas demand for higheryielding treasury debt foreign investors increased their holdings of us government debt by through october on track to post their first annual increase since according to the latest available data from the treasury department investors had expected yields to rise in buoyed by surge of growth and inflation sparked by trump administration priorities such as tax cuts regulatory rollbacks and infrastructure spending instead inflation lagged behind other economic data causing investors to grow pessimistic that it would break out of its rut one indication of how those views have changed recently the year inflation breakeven rate which reflects the yield premium on the year us treasury note over the comparable treasury security topped last week for the first time in more than nine months according to thomson reuters it settled tuesday at its highest level since march investors in protected securities or tips receive small yield as well as an increase to their principal equal to the annual change in the consumerprice index the breakeven rate is the annual increase in cpi necessary for tips investor to earn the same income as an investor holding the regular treasury note of the same maturity as result year breakeven rate is roughly equivalent to the annual inflation rate bond investors expect over the next years the rising breakeven rate is an indication that people are pretty concerned about inflation said gary pollack head of fixedincome trading at deutsche bank private wealth management mr pollack said he has been selling year treasurys over the past month and holding the proceeds in cash as he looks for better investment opportunities the recent shift in investors inflation expectations will face test friday when the labor department releases cpi data for december the cpi increased in november from year earlier however the fed preferred inflation gauge the price index for expenditures rose just on headline basis and when excluding volatile food and energy costs that is below the central bank annual target if we get strong cpi number on friday then think certainly the market will be justified in moving past the mark said gennadiy goldberg senior us rates strategist at td securities yet if the data disappoints think this will all come back very quickly he added while rising year yield typically signals investors growing confidence in the economy some analysts said sudden climb higher could reduce the appeal of riskier assets such as stocks which have started with string of records and milestones higher inflation could also dent stock prices by threatening the value of corporate earnings said james paulsen chief investment strategist at the leuthold group several analysts noted that yields remain low by historical standards and treasurys have sold off several times over the past months only to rally again the last time the year yield closed above on march investors were concerned that the fed would quicken the pace of its interestrate increases but those fears quickly abated in less than week the yield was back to below and it dipped under in early september»\n",
      "\n",
      "LEAST (23, -0.09851035475730896): «here is potted history of recent economic policy and inflation in the central banks created vast amounts of money through their qe schemes while governments enacted fiscal austerity inflation in the rich world was mostly too low undershooting central banks targets then the pandemic struck there was plenty more qe but the truly novel economic policy was the trn in fiscal stimulus implemented worldwide equivalent to of global gdp the result was high inflation the rich country that has splurged the most america has had the most inflation with consumer prices rising at anannual pace of the federal reserve on december th was forced to acknowledge that inflation had become big threat at first glance this apparent supremacy of fiscal policy is awkward for fans of milton friedman view that inflation is always and everywhere monetary phenomenon central banks not governments are charged with hitting inflation targets but does the experience of the pandemic show that inflation is really fiscal one way in which fiscal stimulus boosts inflation is by strengthening households and firms balancesheets making them more likely to spend suppose the government raises cash from investors who receive bonds in exchange then it hands out the money to households returning it into circulation netting off it is as if the government has just given out new bonds whether those bonds truly constitute new wealth for the private sector is the subject of an old theoretical debate when the government runs up debts the public could also expect to pay higher taxes in the future liability that off sets their newly created assets yet in reality it is clear that fiscal stimulus leads to more spending now introduce new step into the thought experiment the central bank implementing qe creates new money with which it buys the bonds that the government has given out so when you net everything off the government is not giving out bonds it is giving out cash this is not far off the policy mix during the pandemic the tsunami of fiscal stimulus was accompanied by bondbuying of almost equal magnitude central banks in america britain the euro zone and japan have together bought more than trn in assets the result has been surge in deposits at commercial banks in america they have risen from around trn in early to around trn today as early as the spring of some monetarist economists such as tim congdon of the university of buckingham pointed to surging measures of broad money which includes bank deposits and warned of inflation to follow so far so friedmanite but which leg of the policy matters more the fiscal stimulus which boosted aggregate household wealth or qe which ensured the infusion was of cash and not of bonds there is probably something special about infusing households balancesheets with cash says chris marsh of exante data research firm he has suggested that rediscovery of monetarism could be in the offing after the pandemic other economists however argue that qe is mostly ineffective except in periods of acute financial stress such as the dash for cash in spring suppose that once that crisis had passed central banks had shrunk their balancesheets quickly but had still promised to keep interest rates at zero for long time it seems likely that america enormous fiscal stimulus would by boosting household wealth still have driven up spending and prices yet believing in the impotence of qe compared with fiscal stimulus is in fact consistent with monetarism if you expand the definition of money distinguishing the electronic money created by central banks from debt securities issued by governments is increasingly difficult this is partly because when interest rates are closeto zero they are closer substitutes it is also because most central banks now pay interest on the electronic money they create even if rates were to rise socalled interest on reserves would still leave electronic money looking bit like public debt the reverse is also true investors value government debt especially america for its liquidity meaning they are willing to hold it at lower interest rate than other investments much like the public is willing to accept low yield on bank deposits as result it seems more accurate to view the national debt less as form of debt and more as form of money in circulation wrote david andolfatto of the federal reserve bank of st louis in december he also warned americans to prepare themselves for temporary burst of inflation in light of the oneoff increase in national debt during the pandemic if money and debt are substitutes just swapping one for another as qe does might provide little stimulus consistent with the experience of the but expanding their combined supply can be powerfully inflationary right on the money the logical extreme of this argument is known as the fiscal theory of the price level created in the early and in the process of being refreshed john cochrane of stanford university has written pagebook on the subject this says that the outstanding stock of government money and debt is bit like the shares of company its value ie how much it can buy adjusts to reflect future fiscal policy should the government be insufficiently committed to running surpluses to repay its debts the public will be like shareholders expecting dilution the result is inflation explaining today high inflation does not require you to go that far though it is enough to look at recent deficits rather than to peer into the future yet it is striking that economists like mr andolfatto who focused on the supply of government liabilities foresaw today predicament while most central bankers whose eyes were fixed firmly on labour markets as gauge of inflationary pressure did not the past decade has shown that when interest rates fall to zero it takes more than just qe to escape lowinflation world still friedmanism lives on»\n",
      "\n"
     ]
    }
   ],
   "source": [
    "# Compare and print the most/median/least similar documents from the train corpus\n",
    "print('Test Document ({}): «{}»\\n'.format(0, ' '.join(test_corpus[0])))\n",
    "print(u'SIMILAR/DISSIMILAR DOCS PER MODEL %s:\\n' % model)\n",
    "for label, index in [('MOST', 0), ('MEDIAN', len(sims)//2), ('LEAST', len(sims) - 1)]:\n",
    "    print(u'%s %s: «%s»\\n' % (label, sims[index], ' '.join(train_corpus[sims[index][0]].words)))"
   ]
  },
  {
   "cell_type": "code",
   "execution_count": 83,
   "metadata": {},
   "outputs": [
    {
     "name": "stdout",
     "output_type": "stream",
     "text": [
      "Inflation will fade away\n",
      "1\n"
     ]
    }
   ],
   "source": [
    "# The label of the article at test_corpus[0] is:\n",
    "print(y_test[0])\n",
    "print(y_test_encoded[0])"
   ]
  },
  {
   "cell_type": "code",
   "execution_count": 84,
   "metadata": {},
   "outputs": [
    {
     "name": "stdout",
     "output_type": "stream",
     "text": [
      "Expect Inflation\n",
      "0\n"
     ]
    }
   ],
   "source": [
    "# The label of the most similar article is:\n",
    "print(y_train[15])\n",
    "print(y_train_encoded[15])"
   ]
  },
  {
   "cell_type": "code",
   "execution_count": 85,
   "metadata": {},
   "outputs": [],
   "source": [
    "y_pred_cosine = []\n",
    "y_actual_cosine = []\n",
    "cosine_similarity = []\n",
    "most_sim = []\n",
    "for i, article in enumerate(test_corpus):\n",
    "    inferredVect = model.infer_vector(test_corpus[i])\n",
    "    sims = model.dv.most_similar([inferredVect], topn=len(model.dv))\n",
    "    y_actual_cosine.append(y_test_encoded[i])\n",
    "    y_pred_cosine.append(y_train_encoded[sims[0][0]])\n",
    "    cosine_similarity.append(sims[0][1])\n",
    "    most_sim.append(sims[0][0])"
   ]
  },
  {
   "cell_type": "code",
   "execution_count": 86,
   "metadata": {},
   "outputs": [
    {
     "name": "stdout",
     "output_type": "stream",
     "text": [
      "[1, 0, 0, 0, 2, 0, 0, 0, 0, 0]\n",
      "[1, 0, 1, 1, 0, 0, 0, 0, 0, 0]\n"
     ]
    }
   ],
   "source": [
    "print(y_pred_cosine)\n",
    "print(y_actual_cosine)"
   ]
  },
  {
   "cell_type": "code",
   "execution_count": 87,
   "metadata": {},
   "outputs": [
    {
     "data": {
      "text/plain": [
       "[31, 15, 17, 14, 21, 11, 8, 0, 2, 2]"
      ]
     },
     "execution_count": 87,
     "metadata": {},
     "output_type": "execute_result"
    }
   ],
   "source": [
    "most_sim"
   ]
  },
  {
   "cell_type": "code",
   "execution_count": 88,
   "metadata": {},
   "outputs": [
    {
     "data": {
      "text/plain": [
       "[0.8179842829704285,\n",
       " 0.8322340846061707,\n",
       " 0.6593027114868164,\n",
       " 0.8612664937973022,\n",
       " 0.7898670434951782,\n",
       " 0.7953059673309326,\n",
       " 0.6782040596008301,\n",
       " 0.7412326335906982,\n",
       " 0.618730366230011,\n",
       " 0.7647850513458252]"
      ]
     },
     "execution_count": 88,
     "metadata": {},
     "output_type": "execute_result"
    }
   ],
   "source": [
    "cosine_similarity"
   ]
  },
  {
   "cell_type": "code",
   "execution_count": 89,
   "metadata": {},
   "outputs": [
    {
     "name": "stdout",
     "output_type": "stream",
     "text": [
      "labeledArticle(articleID=8, label='Expect Inflation', body='investors have been celebrating recent us inflation data which showed both consumer and producer prices rising by less than expected in october but it wouldn’t be wise to get carried away by a single month’s numbers as markets ponder the federal reserve’s next move it’s too soon to be sure that the pace of monetary tightening can be safely scaled back  consumer prices rose 77 in the year through october down from 82 in september and the peak of 91 in june the new rate is the lowest since january before russia’s war on ukraine roiled global energy and commodity markets stripping out the cost of energy and food core cpi inflation is lower and also falling—to 63 from 66 in september the nov 10 report made investors more confident that the fed’s next hike in interest rates will be only 50 basis points ending its recent run of 75point increases  a similar story prevailed with data released on nov 15 the october producer price index rose by 8 from the year before the smallest annual gain in more than a year and less than the 83 economists had been expecting it was up only 02 from the previous month compared with an expected 04  all good news but there are reasons for caution nonetheless inflation numbers are volatile and a short run of figures doesn’t make a trend the slowdown in price increases was pretty broadbased which is fine but it was helped by a sharp decline in the medical insurance component which the pandemic distorted before the fed makes its next interestrate decision in december it will have another inflation report and new information on the state of the labor market to consider that data will shed more light on whether the path of prices has indeed turned  a different question then arises how much further as opposed to how quickly should interest rates rise from now on on this the fed has been less than explicit its most recent projections in september indicated a socalled terminal rate of about 45 but chair jerome powell later sounded a more hawkish note leading markets to expect a peak of roughly 5 in the middle of next year powell has said that a moderately positive real rate will be required supposing inflation falls to 4 by the middle of next year and looks on track to fall gradually back to its 2 target a terminal rate of 5 might then be about right  the new data make this gradual path to lower inflation plausible it would be consistent with a slower pace of interestrate increases from here on as fed vice chair lael brainard suggested on nov 14 with luck it could also allow the soft landing the fed still hopes to engineer for the economy but a lot has to go right for things to turn out so well new supplyside shocks would change everything congress has to avoid the kind of fiscal recklessness that would throw a wrench into the works and despite the plannedfor persistence of higherthantarget inflation through next year price expectations will have to stay anchored—most likely requiring in turn a faster reduction of labormarket pressure on wages than seen so far  for the moment therefore let joy be confined the fight to control inflation has a long way to go')\n"
     ]
    }
   ],
   "source": [
    "# Another check to see the labels are alligned\n",
    "sampleBody = X_train[25]\n",
    "for i in range(len(articlesSample)):\n",
    "    if articlesSample[i][2] == sampleBody:\n",
    "        print(articlesSample[i])"
   ]
  },
  {
   "cell_type": "code",
   "execution_count": 90,
   "metadata": {},
   "outputs": [
    {
     "name": "stdout",
     "output_type": "stream",
     "text": [
      "labeledArticle(articleID=15, label='Inflation will fade away', body='we’ve been told for years that inflation has been too low now that it’s finally reached and surpassed the federal reserve’s 2 target it looks as scary as the fastgrowing carnivorous plant in little shop of horrors  iron copper lumber cotton computer chips and gasoline are jumping in price the dollar has weakened making imports more costly employers are having to raise wages to fill record openings the federal government is spending heavily and consumers emerging from the pandemic are in the mood to light some money on fire on may 12 the us bureau of labor statistics reported that consumer prices rose 08 in april from march four times the median expectation and the most since 2009 excluding food and energy the increase was 09 the most since 1982  stock indexes have retreated since may 7 when the sp 500 hit a record but jitters about the economic equivalent of an outofcontrol maneating houseplant are more clearly evident in the bond market investor bets on the average inflation rate over the next 10 years have shot up from their covid‑19 low of less than 1 in 2020 to more than 25 the highest since 2013  the nervousness may get worse “one always has to be careful not to overplay a few anecdotes and project that onto the broader economy” douglas porter chief economist at bmo capital markets wrote in an april 30 report “but as the anecdotes accumulate they eventually become data”  so how worried should we be this package of stories tries to answer that question it focuses mostly on the us but also takes a look at china where manufacturers are beginning to pass along their higher costs to customers around the world  price pressures can bubble up at different stages in a supply chain a lot of the pressure now is in commodities at 66 a barrel west texas intermediate crude is trading at its highest level since 2014 and far above its price of 20 or so during the worst of the covid downturn bottlenecks including the ransomwarerelated shutdown of a major east coast fuel products pipeline add to volatility what’s worse is that other raw materials are surging in tandem a bloomberg index of 20 commodities has climbed 53 over the past 12 months  commodity costs are only a small component of most consumer prices of course as the chart on page 32 shows the consumer price index doesn’t move up or down as dramatically as the indexes for producers at various stages of production nonetheless it’s worth noting that oil the most important industrial commodity has been a catalyst for every big spike in consumer price inflation since the early 1970s  wages are the biggest expense for most companies and they too are moving up some observers interpreted the big shortfall in april jobs growth—a payroll increase of just 266000 vs the expected 1 million—as a sign that demand for workers is flagging and so they conclude that runaway inflation isn’t an imminent threat another way to read the may 7 report from the bureau of labor statistics is that job growth is being held back by a shortage of workers in which case businesses will have few options but to hike pay to fill openings under this scenario inflation becomes a clear and present danger as bloomberg opinion columnist mohamed elerian wrote on may 10  although payrolls are still down 8 million jobs data released on may 11 showed the national jobvacancy rate has shot up to 53 the highest since records began in 2000 fear of covid childcare issues skills mismatches and generous jobless benefits are all suspected factors in why workers are staying home to lure them companies are offering signing bonuses and raising wages the employment cost index which covers both wages and benefits rose in the first quarter at the fastest pace since 2007  some companies are passing along their higher labor and materials costs to customers according to transcripts of earnings calls with analysts “straight price increases will continue to be an important element as we look at the back half of the year” noel wallace chief executive officer of colgate palmolive co said on april 30 paul jacobson general motors co’s chief financial officer told analysts on may 5 that the automaker’s average transaction price was up 9 yearoveryear in the first quarter “helping to overcome headwinds from commodity inflation and lower volumes” tyson foods inc chief operating officer donnie king said on may 10 “we certainly can’t eat all the inflation that we’re experiencing now”  fiscal and monetary stimulus are also pushing up prices federal net outlays hit 31 of gross domestic product in the final quarter of 2020 way above the recent average of about 20 the biden administration has kept the pedal to the metal since then with the 19 trillion american rescue plan and is seeking congress’s approval for other spending and the federal reserve has maintained the target range for the federal funds rate at 0 to 025 while continuing to buy 120 billion a month of treasury and mortgagebacked securities to hold down longterm rates  fed officials say higher inflation is precisely what they want a bit of predictable inflation lubricates commerce and gives the central bank room to push down inflationadjusted rates to revive the economy next time there’s a crisis on april 28 the federal open market committee fomc unanimously reaffirmed its commitment to achieving inflation “moderately above 2 for some time” to compensate for the many years it was under 2  fed chair jerome powell has repeatedly stressed that the current inflationary pressures are “transitory” and that it’s too early to even talk about tightening monetary policy while unemployment remains this high “we have pentup demand in the economy” said fed vice chair richard clarida on may 12 calling the april inflation figure just “one data point” he added “it may take some time for supply to rise up to demand”  he and others point out that the elevated yearoveryear inflation readings are distorted by extremely weak prices from the coviddamaged economy a year ago—and say that toohigh inflation is easier for the fed to fix than toolow inflation  the one thing that could get the fed to raise rates soon would be evidence that consumers and businesses are beginning to expect high inflation which can become a selffulfilling prophecy there’s no sign of that happening yet clarida said in an april 14 speech he pointed to a fed staff compilation of 21 indicators from households companies professional forecasters and markets showing that expected inflation was 2 in the first quarter on target  some wall streeters say the fed is right to stay the course “we do not see the sort of inflationary pressures that markets appear to be fearing and high growth rates will not necessarily translate into a higher inflation rate” says praveen korapaty goldman sachs group inc’s chief interestrate strategist  that may well turn out to be right at the moment though the mood is fearful and the more the fed tries to reassure people that inflation is nothing to worry about the more some people will conclude that it’s about to get out of hand')\n"
     ]
    }
   ],
   "source": [
    "sampleBody = X_test[2]\n",
    "for i in range(len(articlesSample)):\n",
    "    if articlesSample[i][2] == sampleBody:\n",
    "        print(articlesSample[i])"
   ]
  },
  {
   "cell_type": "code",
   "execution_count": 91,
   "metadata": {},
   "outputs": [
    {
     "name": "stdout",
     "output_type": "stream",
     "text": [
      "labeledArticle(articleID=23, label='Expect Inflation', body='the days when worries over the danger of toohigh inflation were a regular feature of economic commentary are long gone that doesn’t mean the possibility of inflation running hotterthanexpected should be dismissed entirely  the labor department on tuesday reported that consumer prices rose 02 in december from november falling shy of the 03 economists surveyed by the wall street journal expected and putting them 23 above their yearearlier level prices excluding food and energy items—the socalled core economists watch to track inflation’s trend—rose 01 on the month putting them up 23 from a year earlier  since the federal reserve’s preferred inflation measure from the commerce department runs cooler than the labor department’s it is likely that inflation once again finished the year short of the central bank’s 2 target fed policy makers’ projections show that on balance they don’t expect inflation to reach 2 until next year  it is a remarkable turn given that the unemployment rate at 35 is well below the 41 fed policy makers believe is sustainable with the traditional inverse relationship between unemployment and inflation seemingly broken many officials and economists too have defaulted to an expectation that inflation will remain persistently cool  but federal reserve bank of boston president eric rosengren struck a lonely chord in a speech monday suggesting that there remains a danger inflation could accelerate wage growth while still moderate has been picking up he pointed out and with corporate profit margins under pressure lately companies’ ability to absorb rising labor costs without raising prices may be limited  moreover just because economists have been struggling to understand why inflation has been so low doesn’t mean that inflation can’t pick up instead their struggle to forecast inflation may simply show that inflation is hard to predict and might end up doing something unexpected indeed in the early 1960s inflation was running even cooler than it is today policy makers assumed that would continue and rather suddenly found out they were wrong  none of that means inflation is about to become a big problem or that forecasts that it will stay low won’t come true but investors should be open to the possibility that inflation might not do what everyone thinks it will')\n"
     ]
    }
   ],
   "source": [
    "# Another check but in a wrong prediction\n",
    "sampleBody = X_train[18]\n",
    "for i in range(len(articlesSample)):\n",
    "    if articlesSample[i][2] == sampleBody:\n",
    "        print(articlesSample[i])"
   ]
  },
  {
   "cell_type": "code",
   "execution_count": 92,
   "metadata": {},
   "outputs": [
    {
     "name": "stdout",
     "output_type": "stream",
     "text": [
      "labeledArticle(articleID=18, label='Expect Inflation', body='one of the most important signals of future inflation has begun to ease in the past month a development that should reassure the federal reserve in its prediction that the recent inflation surge will prove largely temporary  that signal is socalled inflation expectations what businesses consumers workers and investors expect inflation to be over the next one to 10 years because such expectations can be selffulfilling economists consider them key to where inflation is going  expectations are tracked through a range of surveys and marketbased measures and most are telling the same story after rising sharply from october through may they have now begun to ease  the median expectation of inflation during the next year for consumers surveyed by the university of michigan shot to 48 this month the highest since august 2008 however consumers’ oneyear expectations are strongly influenced by today’s inflation rate now a 13year high of 54 a morereassuring message comes from their expectations for five to 10 years from now that came in at 29 in early july down slightly from 3 in may and close to the average of 28 in surveys from 2000 to 2019  bond investors also don’t seem to be betting on a sustained jump in inflation based on the “breakeven inflation rate”—the difference between the yield on regular treasury bonds and on inflationindexed bonds the breakeven rate over the next five years has dropped 019 percentage point since midmay the rate over the following five years has dropped 021 point  moreover since january the fiveyear breakeven inflation rate has been higher than the 10year rate the first time that has happened consistently since 2008 “what the markets are saying is ‘we think there’s inflation in the near term but eventually it’s going to ease and goback to the fed’s 2 target—maybe be a little above but it will certainly not remain elevated’” said kathy bostjancic chief us financial economist at oxford economics  business inflation expectations have declined too since may as tracked by the federal reserve bank of atlanta’s monthly survey of around 300 businesses in six states companies expected 28 infl ation a year from now in early july on average down from 3 in june though up from the average of 19 from 2012 to 2019 the survey measures businesses’ expectations of their own costs which may not translate to selling prices  in theory individuals and businesses set prices and wages based on what they expect inflation to be in the future thus expectations can be selffulfilling “consumers say ‘inflation is going up—i’m going to have to pay higher prices’ and go to their employers and ask for higher wages” ms bostjancic said businesses see that rising inflation gives them room to raise prices and grant raises recouping those increased costs by charging more she said “it’s intuitive but also borne out by empirical evidence”  in the fed’s economic models inflation is largely determined by slack—how much labor and business capacity is going unused—and inflation expectations “there is broad agreement that achieving price stability on a sustainable basis requires that longrun inflation expectations be well anchored at the rate of inflation consistent with the pricestability goal” said richard clarida the fed’s vice chairman in an april speech  in the 1960s economists thought there was a tradeoff between inflation and unemployment—a relationship called the phillips curve—and policy makers could lower unemployment by allowing higher inflation but scholars such as the late nobel laureate milton friedman argued that workers would respond to higher inflation by expecting and receiving higher wages which would tend to push unemployment back up to its old level that is what happened in the 1970s unemployment went up but inflation didn’t go down because expectations were high  conversely low stable expected inflation over the 10 years before the coronavirus pandemic may explain why the fed struggled to bring inflation consistently up to its 2 target even as unemployment fell to historic lows last year inflation expectations plummeted as the economy sank into recession but as the economy rebounded so did expectations to above prepandemic levels  that could be good news for the fed said tim duy chief us economist at sgh macro advisors because it could help the fed keep inflation on its 2 target based on historical patterns expected inflation slightly above 2 would still be consistent with actual inflation at2  the fed’s staff has compiled a “common inflation expectations” index from 21 measures of inflation expectations including short and longterm indexes from consumers markets businesses and professional forecasters that index in the second quarter was at levels that prevailed in 2014 a time when inflation was modest the fed indicated in minutes of its june meeting  but some economists worry inflation expectations could rise steadily from here trillions of dollars in federal pandemic relief and ample household savings have helped buoy demand that along with pandemicrelated supply chain disruptions is giving businesses more pricing power than they have had in decades said joel naroff chief economist at naroff economics llc  “what that could lead to is extended periods of raising prices rather than fear that if they raise prices they’ll lose market share” he said  that fear may indeed be receding a year ago raising prices was the last thing aaron pool wanted to think about when the founder and coowner of the gadzooks enchiladas and soup restaurants chain in arizona raised the price for two enchiladas by 25 cents in 2013 he faced customer backlash  emerging from lockdown in the spring of 2020 a state minimumwage law and higher commodity and delivery costs pushed him to raise prices yet demand stayed strong  “i believe inflation is real because customers haven’t said a peep about it” mr pool said “it’s 925 for two enchiladas right now we joke we could probably raise it to 13 and people would pay it”  anmol sahai of brooklyn ny noticed prices at restaurants and bars in the city shooting up a few months ago the price for a morning uber soared to more than 40 nearly double the prepandemic rate  “i feel like may was the first time i was like ‘oh my god this is getting out of hand’” said mrsahai who is 25 years old and works as a paralegal  in his case though higher inflation hasn’t yet changed his behavior in a way that suggests his expectations are becoming unanchored he cut back on dining out and now takes the subway to work but while mr sahai is planning to ask for a raise soon he doesn’t connect that to higher costs  “i’ll ask for more regardless but how much will inflation influence that not much” he said“i think of them differently there’s my job on one side and how much i spend on the other”')\n"
     ]
    }
   ],
   "source": [
    "sampleBody = X_test[6]\n",
    "for i in range(len(articlesSample)):\n",
    "    if articlesSample[i][2] == sampleBody:\n",
    "        print(articlesSample[i])"
   ]
  },
  {
   "cell_type": "code",
   "execution_count": 93,
   "metadata": {},
   "outputs": [
    {
     "name": "stdout",
     "output_type": "stream",
     "text": [
      "Doc2Vec cosine similarity Accuracy Score ->  0.7\n"
     ]
    }
   ],
   "source": [
    "# Use accuracy_score function to get the accuracy\n",
    "accuracy_Doc2Vec_cosine = accuracy_score(y_actual_cosine,y_pred_cosine)\n",
    "print(\"Doc2Vec cosine similarity Accuracy Score -> \",accuracy_Doc2Vec_cosine)"
   ]
  },
  {
   "cell_type": "code",
   "execution_count": 94,
   "metadata": {},
   "outputs": [
    {
     "name": "stdout",
     "output_type": "stream",
     "text": [
      "Doc2Vec cosine similarity Recall Score ->  0.7\n"
     ]
    }
   ],
   "source": [
    "recall_Doc2vec_cosine = recall_score(y_actual_cosine,y_pred_cosine, average='micro')\n",
    "print(\"Doc2Vec cosine similarity Recall Score -> \",recall_Doc2vec_cosine)"
   ]
  },
  {
   "cell_type": "code",
   "execution_count": 95,
   "metadata": {},
   "outputs": [
    {
     "name": "stdout",
     "output_type": "stream",
     "text": [
      "Doc2Vec cosine similarity Precision Score ->  0.7\n"
     ]
    }
   ],
   "source": [
    "precision_Doc2vec_cosine = precision_score(y_actual_cosine,y_pred_cosine, average='micro')\n",
    "print(\"Doc2Vec cosine similarity Precision Score -> \", precision_Doc2vec_cosine)"
   ]
  },
  {
   "cell_type": "code",
   "execution_count": 96,
   "metadata": {},
   "outputs": [
    {
     "name": "stdout",
     "output_type": "stream",
     "text": [
      "                        precision    recall  f1-score   support\n",
      "\n",
      "      Expect inflation       0.75      0.86      0.80         7\n",
      "Inflation will go away       1.00      0.33      0.50         3\n",
      "               Neutral       0.00      0.00      0.00         0\n",
      "\n",
      "              accuracy                           0.70        10\n",
      "             macro avg       0.58      0.40      0.43        10\n",
      "          weighted avg       0.82      0.70      0.71        10\n",
      "\n"
     ]
    },
    {
     "name": "stderr",
     "output_type": "stream",
     "text": [
      "C:\\Users\\rzamb\\AppData\\Local\\Continuum\\anaconda3\\lib\\site-packages\\sklearn\\metrics\\_classification.py:1248: UndefinedMetricWarning: Recall and F-score are ill-defined and being set to 0.0 in labels with no true samples. Use `zero_division` parameter to control this behavior.\n",
      "  _warn_prf(average, modifier, msg_start, len(result))\n",
      "C:\\Users\\rzamb\\AppData\\Local\\Continuum\\anaconda3\\lib\\site-packages\\sklearn\\metrics\\_classification.py:1248: UndefinedMetricWarning: Recall and F-score are ill-defined and being set to 0.0 in labels with no true samples. Use `zero_division` parameter to control this behavior.\n",
      "  _warn_prf(average, modifier, msg_start, len(result))\n",
      "C:\\Users\\rzamb\\AppData\\Local\\Continuum\\anaconda3\\lib\\site-packages\\sklearn\\metrics\\_classification.py:1248: UndefinedMetricWarning: Recall and F-score are ill-defined and being set to 0.0 in labels with no true samples. Use `zero_division` parameter to control this behavior.\n",
      "  _warn_prf(average, modifier, msg_start, len(result))\n"
     ]
    }
   ],
   "source": [
    "target_names = ['Expect inflation', 'Inflation will go away', 'Neutral']\n",
    "clsf_rep_Doc2vec_cosine = classification_report(y_actual_cosine,y_pred_cosine, target_names=target_names)\n",
    "print(clsf_rep_Doc2vec_cosine)"
   ]
  },
  {
   "cell_type": "code",
   "execution_count": 97,
   "metadata": {},
   "outputs": [
    {
     "name": "stdout",
     "output_type": "stream",
     "text": [
      "BOW - Naive Bayes - Baseline\n",
      "              precision    recall  f1-score   support\n",
      "\n",
      "           0       0.75      0.86      0.80         7\n",
      "           1       0.50      0.33      0.40         3\n",
      "\n",
      "    accuracy                           0.70        10\n",
      "   macro avg       0.62      0.60      0.60        10\n",
      "weighted avg       0.68      0.70      0.68        10\n",
      "\n",
      "BOW - SVM\n",
      "                        precision    recall  f1-score   support\n",
      "\n",
      "      Expect inflation       0.57      0.57      0.57         7\n",
      "Inflation will go away       0.00      0.00      0.00         3\n",
      "               Neutral       0.00      0.00      0.00         0\n",
      "\n",
      "              accuracy                           0.40        10\n",
      "             macro avg       0.19      0.19      0.19        10\n",
      "          weighted avg       0.40      0.40      0.40        10\n",
      "\n",
      "Tf-idf - Naive Bayes\n",
      "              precision    recall  f1-score   support\n",
      "\n",
      "           0       0.70      1.00      0.82         7\n",
      "           1       0.00      0.00      0.00         3\n",
      "\n",
      "    accuracy                           0.70        10\n",
      "   macro avg       0.35      0.50      0.41        10\n",
      "weighted avg       0.49      0.70      0.58        10\n",
      "\n",
      "Tf-idf - SVM\n",
      "              precision    recall  f1-score   support\n",
      "\n",
      "           0       0.70      1.00      0.82         7\n",
      "           1       0.00      0.00      0.00         3\n",
      "\n",
      "    accuracy                           0.70        10\n",
      "   macro avg       0.35      0.50      0.41        10\n",
      "weighted avg       0.49      0.70      0.58        10\n",
      "\n",
      "doc2vec - Cosine Similarity\n",
      "                        precision    recall  f1-score   support\n",
      "\n",
      "      Expect inflation       0.75      0.86      0.80         7\n",
      "Inflation will go away       1.00      0.33      0.50         3\n",
      "               Neutral       0.00      0.00      0.00         0\n",
      "\n",
      "              accuracy                           0.70        10\n",
      "             macro avg       0.58      0.40      0.43        10\n",
      "          weighted avg       0.82      0.70      0.71        10\n",
      "\n"
     ]
    }
   ],
   "source": [
    "print('BOW - Naive Bayes - Baseline')\n",
    "print(clsf_rep_nb)\n",
    "print('BOW - SVM')\n",
    "print(clsf_rep_svm)\n",
    "print('Tf-idf - Naive Bayes')\n",
    "print(clsf_rep_Tfidf_nb)\n",
    "print('Tf-idf - SVM')\n",
    "print(clsf_rep_Tfidf_svm)\n",
    "print('doc2vec - Cosine Similarity')\n",
    "print(clsf_rep_Doc2vec_cosine)"
   ]
  },
  {
   "cell_type": "code",
   "execution_count": null,
   "metadata": {},
   "outputs": [],
   "source": []
  }
 ],
 "metadata": {
  "kernelspec": {
   "display_name": "Python 3",
   "language": "python",
   "name": "python3"
  },
  "language_info": {
   "codemirror_mode": {
    "name": "ipython",
    "version": 3
   },
   "file_extension": ".py",
   "mimetype": "text/x-python",
   "name": "python",
   "nbconvert_exporter": "python",
   "pygments_lexer": "ipython3",
   "version": "3.6.5"
  }
 },
 "nbformat": 4,
 "nbformat_minor": 2
}
